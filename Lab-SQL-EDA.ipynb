{
 "cells": [
  {
   "cell_type": "markdown",
   "metadata": {},
   "source": [
    "<center>\n",
    "    <img src=\"https://s3-api.us-geo.objectstorage.softlayer.net/cf-courses-data/CognitiveClass/Logos/organization_logo/organization_logo.png\" width=\"1000\" alt=\"cognitiveclass.ai logo\"  />\n",
    "</center>\n",
    "\n",
    "# Assignment: Exploratory Data Analysis with SQL\n",
    "\n",
    "Estimated time needed: 60 minutes\n",
    "\n",
    "# Introduction\n",
    "\n",
    "Using this R notebook you will perform exploratory data analysis tasks using SQL queries with the RODBC R package. You will not be graded here, but you will be asked to present some of these results in your final assignment, where you will be graded on the accuracy of your results as well as the content of your SQL queries.\n"
   ]
  },
  {
   "cell_type": "markdown",
   "metadata": {},
   "source": [
    "### Establish your Db2 connection\n",
    "\n",
    "Load the 'RODBC' library, and use the 'odbcConnect( )' function as you did in the previous lab to establish the connection to your Db2 assets.\\\n",
    "Provided you successfully loaded your data into the tables in that lab, you are now ready to start running SQL queries using the RODBC library as you did in Course 3.\n"
   ]
  },
  {
   "cell_type": "code",
   "execution_count": 21,
   "metadata": {},
   "outputs": [
    {
     "data": {
      "text/html": [
       "<strong>DBMS_Name:</strong> 'DB2/LINUXX8664'"
      ],
      "text/latex": [
       "\\textbf{DBMS\\textbackslash{}\\_Name:} 'DB2/LINUXX8664'"
      ],
      "text/markdown": [
       "**DBMS_Name:** 'DB2/LINUXX8664'"
      ],
      "text/plain": [
       "       DBMS_Name \n",
       "\"DB2/LINUXX8664\" "
      ]
     },
     "metadata": {},
     "output_type": "display_data"
    },
    {
     "data": {
      "text/html": [
       "<strong>DBMS_Ver:</strong> '11.05.0700'"
      ],
      "text/latex": [
       "\\textbf{DBMS\\textbackslash{}\\_Ver:} '11.05.0700'"
      ],
      "text/markdown": [
       "**DBMS_Ver:** '11.05.0700'"
      ],
      "text/plain": [
       "    DBMS_Ver \n",
       "\"11.05.0700\" "
      ]
     },
     "metadata": {},
     "output_type": "display_data"
    },
    {
     "data": {
      "text/html": [
       "<strong>Driver_ODBC_Ver:</strong> '03.51'"
      ],
      "text/latex": [
       "\\textbf{Driver\\textbackslash{}\\_ODBC\\textbackslash{}\\_Ver:} '03.51'"
      ],
      "text/markdown": [
       "**Driver_ODBC_Ver:** '03.51'"
      ],
      "text/plain": [
       "Driver_ODBC_Ver \n",
       "        \"03.51\" "
      ]
     },
     "metadata": {},
     "output_type": "display_data"
    },
    {
     "ename": "ERROR",
     "evalue": "Error in odbcGetTables(conn): could not find function \"odbcGetTables\"\n",
     "execution_count": 21,
     "output_type": "error",
     "traceback": [
      "Error in odbcGetTables(conn): could not find function \"odbcGetTables\"\nTraceback:\n"
     ]
    }
   ],
   "source": [
    "# provide your solution here\n",
    "# Establish database connection\n",
    "library(RODBC)\n",
    "dsn_driver <- \"{IBM DB2 ODBC Driver}\"\n",
    "dsn_database <- \"bludb\"            # e.g. \"bludb\"\n",
    "dsn_hostname <- \"6667d8e9-9d4d-4ccb-ba32-21da3bb5aafc.c1ogj3sd0tgtu0lqde00.databases.appdomain.cloud\" # e.g \"54a2f15b-5c0f-46df-8954-.databases.appdomain.cloud\"\n",
    "dsn_port <- \"30376\"   # e.g. \"32733\" \n",
    "dsn_protocol <- \"TCPIP\"            # i.e. \"TCPIP\"\n",
    "dsn_uid <- \"frl39174\"        # e.g. \"zjh17769\"\n",
    "dsn_pwd <- \"TBaKhLbDxl1lkatq\"      # e.g. \"zcwd4+8gbq9bm5k4\"  \n",
    "dsn_security <- \"ssl\"\n",
    "\n",
    "conn_path <- paste(\"DRIVER=\",dsn_driver,\n",
    "                  \";DATABASE=\",dsn_database,\n",
    "                  \";HOSTNAME=\",dsn_hostname,\n",
    "                  \";PORT=\",dsn_port,\n",
    "                  \";PROTOCOL=\",dsn_protocol,\n",
    "                  \";UID=\",dsn_uid,\n",
    "                  \";PWD=\",dsn_pwd,\n",
    "                  \";SECURITY=\",dsn_security,        \n",
    "                    sep=\"\")\n",
    "conn <- odbcDriverConnect(conn_path)\n",
    "\n",
    "    sql.info <- sqlTypeInfo(conn)\n",
    "    conn.info <- odbcGetInfo(conn)\n",
    "    conn.info[\"DBMS_Name\"]\n",
    "    conn.info[\"DBMS_Ver\"]\n",
    "    conn.info[\"Driver_ODBC_Ver\"]"
   ]
  },
  {
   "cell_type": "markdown",
   "metadata": {},
   "source": [
    "## Task 1 - Record Count\n",
    "\n",
    "#### Determine how many records are in the seoul_bike_sharing dataset.\n"
   ]
  },
  {
   "cell_type": "markdown",
   "metadata": {},
   "source": [
    "### Solution 1\n"
   ]
  },
  {
   "cell_type": "code",
   "execution_count": 2,
   "metadata": {
    "scrolled": true
   },
   "outputs": [
    {
     "data": {
      "text/html": [
       "<table>\n",
       "<caption>A data.frame: 1 × 1</caption>\n",
       "<thead>\n",
       "\t<tr><th></th><th scope=col>COUNT</th></tr>\n",
       "\t<tr><th></th><th scope=col>&lt;int&gt;</th></tr>\n",
       "</thead>\n",
       "<tbody>\n",
       "\t<tr><th scope=row>1</th><td>8465</td></tr>\n",
       "</tbody>\n",
       "</table>\n"
      ],
      "text/latex": [
       "A data.frame: 1 × 1\n",
       "\\begin{tabular}{r|l}\n",
       "  & COUNT\\\\\n",
       "  & <int>\\\\\n",
       "\\hline\n",
       "\t1 & 8465\\\\\n",
       "\\end{tabular}\n"
      ],
      "text/markdown": [
       "\n",
       "A data.frame: 1 × 1\n",
       "\n",
       "| <!--/--> | COUNT &lt;int&gt; |\n",
       "|---|---|\n",
       "| 1 | 8465 |\n",
       "\n"
      ],
      "text/plain": [
       "  COUNT\n",
       "1 8465 "
      ]
     },
     "metadata": {},
     "output_type": "display_data"
    }
   ],
   "source": [
    "query <- paste(\"SELECT COUNT(*) AS COUNT FROM SEOUL_BIKE_SHARING\")\n",
    "seoul_bike_count <- sqlQuery(conn, query)\n",
    "seoul_bike_count"
   ]
  },
  {
   "cell_type": "markdown",
   "metadata": {},
   "source": [
    "## Task 2 - Operational Hours\n",
    "\n",
    "#### Determine how many hours had non-zero rented bike count.\n"
   ]
  },
  {
   "cell_type": "markdown",
   "metadata": {},
   "source": [
    "### Solution 2\n"
   ]
  },
  {
   "cell_type": "code",
   "execution_count": 3,
   "metadata": {
    "scrolled": true
   },
   "outputs": [
    {
     "data": {
      "text/html": [
       "<table>\n",
       "<caption>A data.frame: 1 × 1</caption>\n",
       "<thead>\n",
       "\t<tr><th></th><th scope=col>1</th></tr>\n",
       "\t<tr><th></th><th scope=col>&lt;int&gt;</th></tr>\n",
       "</thead>\n",
       "<tbody>\n",
       "\t<tr><th scope=row>1</th><td>97407</td></tr>\n",
       "</tbody>\n",
       "</table>\n"
      ],
      "text/latex": [
       "A data.frame: 1 × 1\n",
       "\\begin{tabular}{r|l}\n",
       "  & 1\\\\\n",
       "  & <int>\\\\\n",
       "\\hline\n",
       "\t1 & 97407\\\\\n",
       "\\end{tabular}\n"
      ],
      "text/markdown": [
       "\n",
       "A data.frame: 1 × 1\n",
       "\n",
       "| <!--/--> | 1 &lt;int&gt; |\n",
       "|---|---|\n",
       "| 1 | 97407 |\n",
       "\n"
      ],
      "text/plain": [
       "  1    \n",
       "1 97407"
      ]
     },
     "metadata": {},
     "output_type": "display_data"
    }
   ],
   "source": [
    "# provide your solution here\n",
    "query2 <- paste(\"SELECT SUM(HOUR) FROM SEOUL_BIKE_SHARING WHERE RENTED_BIKE_COUNT<>0\")\n",
    "total_hrs <- sqlQuery(conn, query2)\n",
    "total_hrs"
   ]
  },
  {
   "cell_type": "markdown",
   "metadata": {},
   "source": [
    "## Task 3 - Weather Outlook\n",
    "\n",
    "#### Query the the weather forecast for Seoul over the next 3 hours.\n",
    "\n",
    "Recall that the records in the CITIES_WEATHER_FORECAST dataset are 3 hours apart, so we just need the first record from the query.\n"
   ]
  },
  {
   "cell_type": "markdown",
   "metadata": {},
   "source": [
    "### Solution 3\n"
   ]
  },
  {
   "cell_type": "code",
   "execution_count": 4,
   "metadata": {},
   "outputs": [
    {
     "data": {
      "text/html": [
       "<table>\n",
       "<caption>A data.frame: 1 × 14</caption>\n",
       "<thead>\n",
       "\t<tr><th></th><th scope=col>DATE</th><th scope=col>RENTED_BIKE_COUNT</th><th scope=col>HOUR</th><th scope=col>TEMPERATURE</th><th scope=col>HUMIDITY</th><th scope=col>WIND_SPEED</th><th scope=col>VISIBILITY</th><th scope=col>DEW_POINT_TEMPERATURE</th><th scope=col>SOLAR_RADIATION</th><th scope=col>RAINFALL</th><th scope=col>SNOWFALL</th><th scope=col>SEASONS</th><th scope=col>HOLIDAY</th><th scope=col>FUNCTIONING_DAY</th></tr>\n",
       "\t<tr><th></th><th scope=col>&lt;fct&gt;</th><th scope=col>&lt;int&gt;</th><th scope=col>&lt;int&gt;</th><th scope=col>&lt;dbl&gt;</th><th scope=col>&lt;int&gt;</th><th scope=col>&lt;dbl&gt;</th><th scope=col>&lt;int&gt;</th><th scope=col>&lt;dbl&gt;</th><th scope=col>&lt;dbl&gt;</th><th scope=col>&lt;dbl&gt;</th><th scope=col>&lt;dbl&gt;</th><th scope=col>&lt;fct&gt;</th><th scope=col>&lt;fct&gt;</th><th scope=col>&lt;fct&gt;</th></tr>\n",
       "</thead>\n",
       "<tbody>\n",
       "\t<tr><th scope=row>1</th><td>01/12/2017</td><td>254</td><td>0</td><td>-5.2</td><td>37</td><td>2.2</td><td>2000</td><td>-17.6</td><td>0</td><td>0</td><td>0</td><td>Winter</td><td>No Holiday</td><td>Yes</td></tr>\n",
       "</tbody>\n",
       "</table>\n"
      ],
      "text/latex": [
       "A data.frame: 1 × 14\n",
       "\\begin{tabular}{r|llllllllllllll}\n",
       "  & DATE & RENTED\\_BIKE\\_COUNT & HOUR & TEMPERATURE & HUMIDITY & WIND\\_SPEED & VISIBILITY & DEW\\_POINT\\_TEMPERATURE & SOLAR\\_RADIATION & RAINFALL & SNOWFALL & SEASONS & HOLIDAY & FUNCTIONING\\_DAY\\\\\n",
       "  & <fct> & <int> & <int> & <dbl> & <int> & <dbl> & <int> & <dbl> & <dbl> & <dbl> & <dbl> & <fct> & <fct> & <fct>\\\\\n",
       "\\hline\n",
       "\t1 & 01/12/2017 & 254 & 0 & -5.2 & 37 & 2.2 & 2000 & -17.6 & 0 & 0 & 0 & Winter & No Holiday & Yes\\\\\n",
       "\\end{tabular}\n"
      ],
      "text/markdown": [
       "\n",
       "A data.frame: 1 × 14\n",
       "\n",
       "| <!--/--> | DATE &lt;fct&gt; | RENTED_BIKE_COUNT &lt;int&gt; | HOUR &lt;int&gt; | TEMPERATURE &lt;dbl&gt; | HUMIDITY &lt;int&gt; | WIND_SPEED &lt;dbl&gt; | VISIBILITY &lt;int&gt; | DEW_POINT_TEMPERATURE &lt;dbl&gt; | SOLAR_RADIATION &lt;dbl&gt; | RAINFALL &lt;dbl&gt; | SNOWFALL &lt;dbl&gt; | SEASONS &lt;fct&gt; | HOLIDAY &lt;fct&gt; | FUNCTIONING_DAY &lt;fct&gt; |\n",
       "|---|---|---|---|---|---|---|---|---|---|---|---|---|---|---|\n",
       "| 1 | 01/12/2017 | 254 | 0 | -5.2 | 37 | 2.2 | 2000 | -17.6 | 0 | 0 | 0 | Winter | No Holiday | Yes |\n",
       "\n"
      ],
      "text/plain": [
       "  DATE       RENTED_BIKE_COUNT HOUR TEMPERATURE HUMIDITY WIND_SPEED VISIBILITY\n",
       "1 01/12/2017 254               0    -5.2        37       2.2        2000      \n",
       "  DEW_POINT_TEMPERATURE SOLAR_RADIATION RAINFALL SNOWFALL SEASONS HOLIDAY   \n",
       "1 -17.6                 0               0        0        Winter  No Holiday\n",
       "  FUNCTIONING_DAY\n",
       "1 Yes            "
      ]
     },
     "metadata": {},
     "output_type": "display_data"
    }
   ],
   "source": [
    "# provide your solution here\n",
    "query3 <- paste(\"SELECT * FROM SEOUL_BIKE_SHARING LIMIT 1\")\n",
    "weather_Q <- sqlQuery(conn,query3)\n",
    "weather_Q"
   ]
  },
  {
   "cell_type": "markdown",
   "metadata": {},
   "source": [
    "## Task 4 - Seasons\n",
    "\n",
    "#### Find which seasons are included in the seoul bike sharing dataset.\n"
   ]
  },
  {
   "cell_type": "markdown",
   "metadata": {},
   "source": [
    "### Solution 4\n"
   ]
  },
  {
   "cell_type": "code",
   "execution_count": 5,
   "metadata": {},
   "outputs": [
    {
     "data": {
      "text/html": [
       "<table>\n",
       "<caption>A data.frame: 4 × 1</caption>\n",
       "<thead>\n",
       "\t<tr><th></th><th scope=col>SEASONS</th></tr>\n",
       "\t<tr><th></th><th scope=col>&lt;fct&gt;</th></tr>\n",
       "</thead>\n",
       "<tbody>\n",
       "\t<tr><th scope=row>1</th><td>Autumn</td></tr>\n",
       "\t<tr><th scope=row>2</th><td>Spring</td></tr>\n",
       "\t<tr><th scope=row>3</th><td>Summer</td></tr>\n",
       "\t<tr><th scope=row>4</th><td>Winter</td></tr>\n",
       "</tbody>\n",
       "</table>\n"
      ],
      "text/latex": [
       "A data.frame: 4 × 1\n",
       "\\begin{tabular}{r|l}\n",
       "  & SEASONS\\\\\n",
       "  & <fct>\\\\\n",
       "\\hline\n",
       "\t1 & Autumn\\\\\n",
       "\t2 & Spring\\\\\n",
       "\t3 & Summer\\\\\n",
       "\t4 & Winter\\\\\n",
       "\\end{tabular}\n"
      ],
      "text/markdown": [
       "\n",
       "A data.frame: 4 × 1\n",
       "\n",
       "| <!--/--> | SEASONS &lt;fct&gt; |\n",
       "|---|---|\n",
       "| 1 | Autumn |\n",
       "| 2 | Spring |\n",
       "| 3 | Summer |\n",
       "| 4 | Winter |\n",
       "\n"
      ],
      "text/plain": [
       "  SEASONS\n",
       "1 Autumn \n",
       "2 Spring \n",
       "3 Summer \n",
       "4 Winter "
      ]
     },
     "metadata": {},
     "output_type": "display_data"
    }
   ],
   "source": [
    "# provide your solution here\n",
    "query4 <- paste(\"SELECT DISTINCT SEASONS FROM SEOUL_BIKE_SHARING\")\n",
    "season_q <- sqlQuery(conn,query4)\n",
    "season_q"
   ]
  },
  {
   "cell_type": "markdown",
   "metadata": {},
   "source": [
    "## Task 5 - Date Range\n",
    "\n",
    "#### Find the first and last dates in the Seoul Bike Sharing dataset.\n"
   ]
  },
  {
   "cell_type": "markdown",
   "metadata": {},
   "source": [
    "### Solution 5\n"
   ]
  },
  {
   "cell_type": "code",
   "execution_count": 6,
   "metadata": {},
   "outputs": [
    {
     "data": {
      "text/html": [
       "<table>\n",
       "<caption>A data.frame: 1 × 2</caption>\n",
       "<thead>\n",
       "\t<tr><th></th><th scope=col>1</th><th scope=col>2</th></tr>\n",
       "\t<tr><th></th><th scope=col>&lt;fct&gt;</th><th scope=col>&lt;fct&gt;</th></tr>\n",
       "</thead>\n",
       "<tbody>\n",
       "\t<tr><th scope=row>1</th><td>01/01/2018</td><td>31/12/2017</td></tr>\n",
       "</tbody>\n",
       "</table>\n"
      ],
      "text/latex": [
       "A data.frame: 1 × 2\n",
       "\\begin{tabular}{r|ll}\n",
       "  & 1 & 2\\\\\n",
       "  & <fct> & <fct>\\\\\n",
       "\\hline\n",
       "\t1 & 01/01/2018 & 31/12/2017\\\\\n",
       "\\end{tabular}\n"
      ],
      "text/markdown": [
       "\n",
       "A data.frame: 1 × 2\n",
       "\n",
       "| <!--/--> | 1 &lt;fct&gt; | 2 &lt;fct&gt; |\n",
       "|---|---|---|\n",
       "| 1 | 01/01/2018 | 31/12/2017 |\n",
       "\n"
      ],
      "text/plain": [
       "  1          2         \n",
       "1 01/01/2018 31/12/2017"
      ]
     },
     "metadata": {},
     "output_type": "display_data"
    }
   ],
   "source": [
    "# provide your solution here\n",
    "query5 <- paste(\"SELECT MIN(DATE), MAX(DATE) FROM SEOUL_BIKE_SHARING\")\n",
    "date_q <- sqlQuery(conn,query5)\n",
    "date_q"
   ]
  },
  {
   "cell_type": "markdown",
   "metadata": {},
   "source": [
    "## Task 6 - Subquery - 'all-time high'\n",
    "\n",
    "#### determine which date and hour had the most bike rentals.\n"
   ]
  },
  {
   "cell_type": "markdown",
   "metadata": {},
   "source": [
    "### Solution 6\n"
   ]
  },
  {
   "cell_type": "code",
   "execution_count": 7,
   "metadata": {},
   "outputs": [
    {
     "data": {
      "text/html": [
       "<table>\n",
       "<caption>A data.frame: 1 × 2</caption>\n",
       "<thead>\n",
       "\t<tr><th></th><th scope=col>DATE</th><th scope=col>HOUR</th></tr>\n",
       "\t<tr><th></th><th scope=col>&lt;fct&gt;</th><th scope=col>&lt;int&gt;</th></tr>\n",
       "</thead>\n",
       "<tbody>\n",
       "\t<tr><th scope=row>1</th><td>19/06/2018</td><td>18</td></tr>\n",
       "</tbody>\n",
       "</table>\n"
      ],
      "text/latex": [
       "A data.frame: 1 × 2\n",
       "\\begin{tabular}{r|ll}\n",
       "  & DATE & HOUR\\\\\n",
       "  & <fct> & <int>\\\\\n",
       "\\hline\n",
       "\t1 & 19/06/2018 & 18\\\\\n",
       "\\end{tabular}\n"
      ],
      "text/markdown": [
       "\n",
       "A data.frame: 1 × 2\n",
       "\n",
       "| <!--/--> | DATE &lt;fct&gt; | HOUR &lt;int&gt; |\n",
       "|---|---|---|\n",
       "| 1 | 19/06/2018 | 18 |\n",
       "\n"
      ],
      "text/plain": [
       "  DATE       HOUR\n",
       "1 19/06/2018 18  "
      ]
     },
     "metadata": {},
     "output_type": "display_data"
    }
   ],
   "source": [
    "# provide your solution here\n",
    "query6 <- paste(\"SELECT DATE, HOUR FROM SEOUL_BIKE_SHARING WHERE RENTED_BIKE_COUNT = (SELECT MAX(RENTED_BIKE_COUNT) FROM SEOUL_BIKE_SHARING)\")\n",
    "most_q <- sqlQuery(conn,query6)\n",
    "most_q"
   ]
  },
  {
   "cell_type": "markdown",
   "metadata": {},
   "source": [
    "## Task 7 - Hourly popularity and temperature by season\n",
    "\n",
    "#### Determine the average hourly temperature and the average number of bike rentals per hour over each season. List the top ten results by average bike count.\n"
   ]
  },
  {
   "cell_type": "markdown",
   "metadata": {},
   "source": [
    "### Solution 7\n"
   ]
  },
  {
   "cell_type": "code",
   "execution_count": 8,
   "metadata": {},
   "outputs": [
    {
     "data": {
      "text/html": [
       "<table>\n",
       "<caption>A data.frame: 10 × 4</caption>\n",
       "<thead>\n",
       "\t<tr><th></th><th scope=col>HOUR</th><th scope=col>SEASONS</th><th scope=col>HOURLY_TEMP</th><th scope=col>HOURLY_RENTED</th></tr>\n",
       "\t<tr><th></th><th scope=col>&lt;int&gt;</th><th scope=col>&lt;fct&gt;</th><th scope=col>&lt;dbl&gt;</th><th scope=col>&lt;int&gt;</th></tr>\n",
       "</thead>\n",
       "<tbody>\n",
       "\t<tr><th scope=row>1</th><td>18</td><td>Summer</td><td>29.38696</td><td>2135</td></tr>\n",
       "\t<tr><th scope=row>2</th><td>18</td><td>Autumn</td><td>16.03086</td><td>1983</td></tr>\n",
       "\t<tr><th scope=row>3</th><td>19</td><td>Summer</td><td>28.27283</td><td>1889</td></tr>\n",
       "\t<tr><th scope=row>4</th><td>20</td><td>Summer</td><td>27.06630</td><td>1801</td></tr>\n",
       "\t<tr><th scope=row>5</th><td>21</td><td>Summer</td><td>26.27826</td><td>1754</td></tr>\n",
       "\t<tr><th scope=row>6</th><td>18</td><td>Spring</td><td>15.97222</td><td>1689</td></tr>\n",
       "\t<tr><th scope=row>7</th><td>22</td><td>Summer</td><td>25.69891</td><td>1567</td></tr>\n",
       "\t<tr><th scope=row>8</th><td>17</td><td>Autumn</td><td>17.27778</td><td>1562</td></tr>\n",
       "\t<tr><th scope=row>9</th><td>17</td><td>Summer</td><td>30.07500</td><td>1526</td></tr>\n",
       "\t<tr><th scope=row>10</th><td>19</td><td>Autumn</td><td>15.06049</td><td>1515</td></tr>\n",
       "</tbody>\n",
       "</table>\n"
      ],
      "text/latex": [
       "A data.frame: 10 × 4\n",
       "\\begin{tabular}{r|llll}\n",
       "  & HOUR & SEASONS & HOURLY\\_TEMP & HOURLY\\_RENTED\\\\\n",
       "  & <int> & <fct> & <dbl> & <int>\\\\\n",
       "\\hline\n",
       "\t1 & 18 & Summer & 29.38696 & 2135\\\\\n",
       "\t2 & 18 & Autumn & 16.03086 & 1983\\\\\n",
       "\t3 & 19 & Summer & 28.27283 & 1889\\\\\n",
       "\t4 & 20 & Summer & 27.06630 & 1801\\\\\n",
       "\t5 & 21 & Summer & 26.27826 & 1754\\\\\n",
       "\t6 & 18 & Spring & 15.97222 & 1689\\\\\n",
       "\t7 & 22 & Summer & 25.69891 & 1567\\\\\n",
       "\t8 & 17 & Autumn & 17.27778 & 1562\\\\\n",
       "\t9 & 17 & Summer & 30.07500 & 1526\\\\\n",
       "\t10 & 19 & Autumn & 15.06049 & 1515\\\\\n",
       "\\end{tabular}\n"
      ],
      "text/markdown": [
       "\n",
       "A data.frame: 10 × 4\n",
       "\n",
       "| <!--/--> | HOUR &lt;int&gt; | SEASONS &lt;fct&gt; | HOURLY_TEMP &lt;dbl&gt; | HOURLY_RENTED &lt;int&gt; |\n",
       "|---|---|---|---|---|\n",
       "| 1 | 18 | Summer | 29.38696 | 2135 |\n",
       "| 2 | 18 | Autumn | 16.03086 | 1983 |\n",
       "| 3 | 19 | Summer | 28.27283 | 1889 |\n",
       "| 4 | 20 | Summer | 27.06630 | 1801 |\n",
       "| 5 | 21 | Summer | 26.27826 | 1754 |\n",
       "| 6 | 18 | Spring | 15.97222 | 1689 |\n",
       "| 7 | 22 | Summer | 25.69891 | 1567 |\n",
       "| 8 | 17 | Autumn | 17.27778 | 1562 |\n",
       "| 9 | 17 | Summer | 30.07500 | 1526 |\n",
       "| 10 | 19 | Autumn | 15.06049 | 1515 |\n",
       "\n"
      ],
      "text/plain": [
       "   HOUR SEASONS HOURLY_TEMP HOURLY_RENTED\n",
       "1  18   Summer  29.38696    2135         \n",
       "2  18   Autumn  16.03086    1983         \n",
       "3  19   Summer  28.27283    1889         \n",
       "4  20   Summer  27.06630    1801         \n",
       "5  21   Summer  26.27826    1754         \n",
       "6  18   Spring  15.97222    1689         \n",
       "7  22   Summer  25.69891    1567         \n",
       "8  17   Autumn  17.27778    1562         \n",
       "9  17   Summer  30.07500    1526         \n",
       "10 19   Autumn  15.06049    1515         "
      ]
     },
     "metadata": {},
     "output_type": "display_data"
    }
   ],
   "source": [
    "# provide your solution here\n",
    "query7 <- paste(\"SELECT HOUR, SEASONS, AVG(TEMPERATURE) AS HOURLY_TEMP, AVG(RENTED_BIKE_COUNT) AS HOURLY_RENTED FROM SEOUL_BIKE_SHARING\n",
    "GROUP BY HOUR, SEASONS ORDER BY AVG(RENTED_BIKE_COUNT) DESC LIMIT 10\")\n",
    "hourly_q <- sqlQuery(conn,query7)\n",
    "hourly_q"
   ]
  },
  {
   "cell_type": "markdown",
   "metadata": {},
   "source": [
    "## Task 8 - Rental Seasonality\n",
    "\n",
    "#### Find the average hourly bike count during each season.\n",
    "\n",
    "Also include the minimum, maximum, and standard deviation of the hourly bike count for each season.\n"
   ]
  },
  {
   "cell_type": "markdown",
   "metadata": {},
   "source": [
    "### Solution 8\n"
   ]
  },
  {
   "cell_type": "code",
   "execution_count": 9,
   "metadata": {},
   "outputs": [
    {
     "data": {
      "text/html": [
       "<table>\n",
       "<caption>A data.frame: 10 × 6</caption>\n",
       "<thead>\n",
       "\t<tr><th></th><th scope=col>HOUR</th><th scope=col>HOURLY_RENTED</th><th scope=col>MIN</th><th scope=col>MAX</th><th scope=col>STD</th><th scope=col>SEASONS</th></tr>\n",
       "\t<tr><th></th><th scope=col>&lt;int&gt;</th><th scope=col>&lt;int&gt;</th><th scope=col>&lt;int&gt;</th><th scope=col>&lt;int&gt;</th><th scope=col>&lt;dbl&gt;</th><th scope=col>&lt;fct&gt;</th></tr>\n",
       "</thead>\n",
       "<tbody>\n",
       "\t<tr><th scope=row>1</th><td>18</td><td>2135</td><td>17</td><td>3556</td><td>884.0829</td><td>Summer</td></tr>\n",
       "\t<tr><th scope=row>2</th><td>18</td><td>1983</td><td>40</td><td>3298</td><td>778.4414</td><td>Autumn</td></tr>\n",
       "\t<tr><th scope=row>3</th><td>19</td><td>1889</td><td>18</td><td>2984</td><td>728.8799</td><td>Summer</td></tr>\n",
       "\t<tr><th scope=row>4</th><td>20</td><td>1801</td><td>10</td><td>2579</td><td>662.2163</td><td>Summer</td></tr>\n",
       "\t<tr><th scope=row>5</th><td>21</td><td>1754</td><td>17</td><td>2505</td><td>596.1374</td><td>Summer</td></tr>\n",
       "\t<tr><th scope=row>6</th><td>18</td><td>1689</td><td>22</td><td>3251</td><td>898.8971</td><td>Spring</td></tr>\n",
       "\t<tr><th scope=row>7</th><td>22</td><td>1567</td><td>16</td><td>2309</td><td>516.6434</td><td>Summer</td></tr>\n",
       "\t<tr><th scope=row>8</th><td>17</td><td>1562</td><td>23</td><td>2432</td><td>554.3165</td><td>Autumn</td></tr>\n",
       "\t<tr><th scope=row>9</th><td>17</td><td>1526</td><td>25</td><td>2664</td><td>608.7917</td><td>Summer</td></tr>\n",
       "\t<tr><th scope=row>10</th><td>19</td><td>1515</td><td>19</td><td>2518</td><td>571.1497</td><td>Autumn</td></tr>\n",
       "</tbody>\n",
       "</table>\n"
      ],
      "text/latex": [
       "A data.frame: 10 × 6\n",
       "\\begin{tabular}{r|llllll}\n",
       "  & HOUR & HOURLY\\_RENTED & MIN & MAX & STD & SEASONS\\\\\n",
       "  & <int> & <int> & <int> & <int> & <dbl> & <fct>\\\\\n",
       "\\hline\n",
       "\t1 & 18 & 2135 & 17 & 3556 & 884.0829 & Summer\\\\\n",
       "\t2 & 18 & 1983 & 40 & 3298 & 778.4414 & Autumn\\\\\n",
       "\t3 & 19 & 1889 & 18 & 2984 & 728.8799 & Summer\\\\\n",
       "\t4 & 20 & 1801 & 10 & 2579 & 662.2163 & Summer\\\\\n",
       "\t5 & 21 & 1754 & 17 & 2505 & 596.1374 & Summer\\\\\n",
       "\t6 & 18 & 1689 & 22 & 3251 & 898.8971 & Spring\\\\\n",
       "\t7 & 22 & 1567 & 16 & 2309 & 516.6434 & Summer\\\\\n",
       "\t8 & 17 & 1562 & 23 & 2432 & 554.3165 & Autumn\\\\\n",
       "\t9 & 17 & 1526 & 25 & 2664 & 608.7917 & Summer\\\\\n",
       "\t10 & 19 & 1515 & 19 & 2518 & 571.1497 & Autumn\\\\\n",
       "\\end{tabular}\n"
      ],
      "text/markdown": [
       "\n",
       "A data.frame: 10 × 6\n",
       "\n",
       "| <!--/--> | HOUR &lt;int&gt; | HOURLY_RENTED &lt;int&gt; | MIN &lt;int&gt; | MAX &lt;int&gt; | STD &lt;dbl&gt; | SEASONS &lt;fct&gt; |\n",
       "|---|---|---|---|---|---|---|\n",
       "| 1 | 18 | 2135 | 17 | 3556 | 884.0829 | Summer |\n",
       "| 2 | 18 | 1983 | 40 | 3298 | 778.4414 | Autumn |\n",
       "| 3 | 19 | 1889 | 18 | 2984 | 728.8799 | Summer |\n",
       "| 4 | 20 | 1801 | 10 | 2579 | 662.2163 | Summer |\n",
       "| 5 | 21 | 1754 | 17 | 2505 | 596.1374 | Summer |\n",
       "| 6 | 18 | 1689 | 22 | 3251 | 898.8971 | Spring |\n",
       "| 7 | 22 | 1567 | 16 | 2309 | 516.6434 | Summer |\n",
       "| 8 | 17 | 1562 | 23 | 2432 | 554.3165 | Autumn |\n",
       "| 9 | 17 | 1526 | 25 | 2664 | 608.7917 | Summer |\n",
       "| 10 | 19 | 1515 | 19 | 2518 | 571.1497 | Autumn |\n",
       "\n"
      ],
      "text/plain": [
       "   HOUR HOURLY_RENTED MIN MAX  STD      SEASONS\n",
       "1  18   2135          17  3556 884.0829 Summer \n",
       "2  18   1983          40  3298 778.4414 Autumn \n",
       "3  19   1889          18  2984 728.8799 Summer \n",
       "4  20   1801          10  2579 662.2163 Summer \n",
       "5  21   1754          17  2505 596.1374 Summer \n",
       "6  18   1689          22  3251 898.8971 Spring \n",
       "7  22   1567          16  2309 516.6434 Summer \n",
       "8  17   1562          23  2432 554.3165 Autumn \n",
       "9  17   1526          25  2664 608.7917 Summer \n",
       "10 19   1515          19  2518 571.1497 Autumn "
      ]
     },
     "metadata": {},
     "output_type": "display_data"
    }
   ],
   "source": [
    "# provide your solution here\n",
    "query8 <- paste(\"SELECT HOUR, AVG(RENTED_BIKE_COUNT) AS HOURLY_RENTED, MIN(RENTED_BIKE_COUNT) AS MIN, MAX(RENTED_BIKE_COUNT) AS MAX, STDDEV(RENTED_BIKE_COUNT) AS STD, \n",
    "SEASONS FROM SEOUL_BIKE_SHARING\n",
    "GROUP BY HOUR, SEASONS ORDER BY AVG(RENTED_BIKE_COUNT) DESC LIMIT 10\")\n",
    "rental_q <- sqlQuery(conn, query8)\n",
    "rental_q"
   ]
  },
  {
   "cell_type": "markdown",
   "metadata": {},
   "source": [
    "Let's explore a bit and see what might be the most significant contributing factors in terms of the provided data.\n"
   ]
  },
  {
   "cell_type": "markdown",
   "metadata": {},
   "source": [
    "## Task 9 - Weather Seasonality\n",
    "\n",
    "#### Consider the weather over each season. On average, what were the TEMPERATURE, HUMIDITY, WIND_SPEED, VISIBILITY, DEW_POINT_TEMPERATURE, SOLAR_RADIATION, RAINFALL, and SNOWFALL per season?\n",
    "\n",
    "Include the average bike count as well , and rank the results by average bike count so you can see if it is correlated with the weather at all.\n"
   ]
  },
  {
   "cell_type": "markdown",
   "metadata": {},
   "source": [
    "### Solution 9\n"
   ]
  },
  {
   "cell_type": "code",
   "execution_count": 10,
   "metadata": {},
   "outputs": [
    {
     "data": {
      "text/html": [
       "<table>\n",
       "<caption>A data.frame: 4 × 10</caption>\n",
       "<thead>\n",
       "\t<tr><th></th><th scope=col>AVG_BIKE</th><th scope=col>AVG_TEMP</th><th scope=col>AVG_HUMID</th><th scope=col>AVG_WIND</th><th scope=col>AVG_VISIB</th><th scope=col>AVG_DEW</th><th scope=col>AVG_SOLAR</th><th scope=col>AVG_RAINFALL</th><th scope=col>AVG_SNOWFALL</th><th scope=col>SEASONS</th></tr>\n",
       "\t<tr><th></th><th scope=col>&lt;int&gt;</th><th scope=col>&lt;dbl&gt;</th><th scope=col>&lt;int&gt;</th><th scope=col>&lt;dbl&gt;</th><th scope=col>&lt;int&gt;</th><th scope=col>&lt;dbl&gt;</th><th scope=col>&lt;dbl&gt;</th><th scope=col>&lt;dbl&gt;</th><th scope=col>&lt;dbl&gt;</th><th scope=col>&lt;fct&gt;</th></tr>\n",
       "</thead>\n",
       "<tbody>\n",
       "\t<tr><th scope=row>1</th><td>1034</td><td>26.587274</td><td>64</td><td>1.609420</td><td>1501</td><td> 18.750136</td><td>0.7612545</td><td>0.25348732</td><td>0.00000000</td><td>Summer</td></tr>\n",
       "\t<tr><th scope=row>2</th><td> 924</td><td>13.821167</td><td>59</td><td>1.492101</td><td>1558</td><td>  5.150594</td><td>0.5227827</td><td>0.11765617</td><td>0.06350026</td><td>Autumn</td></tr>\n",
       "\t<tr><th scope=row>3</th><td> 746</td><td>13.021389</td><td>58</td><td>1.857778</td><td>1240</td><td>  4.091389</td><td>0.6803009</td><td>0.18694444</td><td>0.00000000</td><td>Spring</td></tr>\n",
       "\t<tr><th scope=row>4</th><td> 225</td><td>-2.540463</td><td>49</td><td>1.922685</td><td>1445</td><td>-12.416667</td><td>0.2981806</td><td>0.03282407</td><td>0.24750000</td><td>Winter</td></tr>\n",
       "</tbody>\n",
       "</table>\n"
      ],
      "text/latex": [
       "A data.frame: 4 × 10\n",
       "\\begin{tabular}{r|llllllllll}\n",
       "  & AVG\\_BIKE & AVG\\_TEMP & AVG\\_HUMID & AVG\\_WIND & AVG\\_VISIB & AVG\\_DEW & AVG\\_SOLAR & AVG\\_RAINFALL & AVG\\_SNOWFALL & SEASONS\\\\\n",
       "  & <int> & <dbl> & <int> & <dbl> & <int> & <dbl> & <dbl> & <dbl> & <dbl> & <fct>\\\\\n",
       "\\hline\n",
       "\t1 & 1034 & 26.587274 & 64 & 1.609420 & 1501 &  18.750136 & 0.7612545 & 0.25348732 & 0.00000000 & Summer\\\\\n",
       "\t2 &  924 & 13.821167 & 59 & 1.492101 & 1558 &   5.150594 & 0.5227827 & 0.11765617 & 0.06350026 & Autumn\\\\\n",
       "\t3 &  746 & 13.021389 & 58 & 1.857778 & 1240 &   4.091389 & 0.6803009 & 0.18694444 & 0.00000000 & Spring\\\\\n",
       "\t4 &  225 & -2.540463 & 49 & 1.922685 & 1445 & -12.416667 & 0.2981806 & 0.03282407 & 0.24750000 & Winter\\\\\n",
       "\\end{tabular}\n"
      ],
      "text/markdown": [
       "\n",
       "A data.frame: 4 × 10\n",
       "\n",
       "| <!--/--> | AVG_BIKE &lt;int&gt; | AVG_TEMP &lt;dbl&gt; | AVG_HUMID &lt;int&gt; | AVG_WIND &lt;dbl&gt; | AVG_VISIB &lt;int&gt; | AVG_DEW &lt;dbl&gt; | AVG_SOLAR &lt;dbl&gt; | AVG_RAINFALL &lt;dbl&gt; | AVG_SNOWFALL &lt;dbl&gt; | SEASONS &lt;fct&gt; |\n",
       "|---|---|---|---|---|---|---|---|---|---|---|\n",
       "| 1 | 1034 | 26.587274 | 64 | 1.609420 | 1501 |  18.750136 | 0.7612545 | 0.25348732 | 0.00000000 | Summer |\n",
       "| 2 |  924 | 13.821167 | 59 | 1.492101 | 1558 |   5.150594 | 0.5227827 | 0.11765617 | 0.06350026 | Autumn |\n",
       "| 3 |  746 | 13.021389 | 58 | 1.857778 | 1240 |   4.091389 | 0.6803009 | 0.18694444 | 0.00000000 | Spring |\n",
       "| 4 |  225 | -2.540463 | 49 | 1.922685 | 1445 | -12.416667 | 0.2981806 | 0.03282407 | 0.24750000 | Winter |\n",
       "\n"
      ],
      "text/plain": [
       "  AVG_BIKE AVG_TEMP  AVG_HUMID AVG_WIND AVG_VISIB AVG_DEW    AVG_SOLAR\n",
       "1 1034     26.587274 64        1.609420 1501       18.750136 0.7612545\n",
       "2  924     13.821167 59        1.492101 1558        5.150594 0.5227827\n",
       "3  746     13.021389 58        1.857778 1240        4.091389 0.6803009\n",
       "4  225     -2.540463 49        1.922685 1445      -12.416667 0.2981806\n",
       "  AVG_RAINFALL AVG_SNOWFALL SEASONS\n",
       "1 0.25348732   0.00000000   Summer \n",
       "2 0.11765617   0.06350026   Autumn \n",
       "3 0.18694444   0.00000000   Spring \n",
       "4 0.03282407   0.24750000   Winter "
      ]
     },
     "metadata": {},
     "output_type": "display_data"
    }
   ],
   "source": [
    "query9 <- paste(\"SELECT AVG(RENTED_BIKE_COUNT) AS AVG_BIKE,\n",
    "AVG(TEMPERATURE) AS AVG_TEMP,\n",
    "AVG(HUMIDITY) AS AVG_HUMID,\n",
    "AVG(WIND_SPEED) AS AVG_WIND,\n",
    "AVG(VISIBILITY) AS AVG_VISIB,\n",
    "AVG(DEW_POINT_TEMPERATURE) AS AVG_DEW,\n",
    "AVG(SOLAR_RADIATION) AS AVG_SOLAR,\n",
    "AVG(RAINFALL) AS AVG_RAINFALL,\n",
    "AVG(SNOWFALL) AS AVG_SNOWFALL,\n",
    "SEASONS FROM SEOUL_BIKE_SHARING GROUP BY SEASONS ORDER BY AVG(RENTED_BIKE_COUNT) DESC\")\n",
    "weather_seaq <- sqlQuery(conn, query9)\n",
    "weather_seaq\n",
    "\n",
    "# provide your solution here"
   ]
  },
  {
   "cell_type": "markdown",
   "metadata": {},
   "source": [
    "## Task 10 - Total Bike Count and City Info for Seoul\n",
    "\n",
    "#### Use an implicit join across the WORLD_CITIES and the BIKE_SHARING_SYSTEMS tables to determine the total number of bikes avaialble in Seoul, plus the following city information about Seoul: CITY, COUNTRY, LAT, LON, POPULATION, in a single view.\n",
    "\n",
    "Notice that in this case, the CITY column will work for the WORLD_CITIES table, but in general you would have to use the CITY_ASCII column.\n"
   ]
  },
  {
   "cell_type": "markdown",
   "metadata": {},
   "source": [
    "### Solution 10\n"
   ]
  },
  {
   "cell_type": "code",
   "execution_count": 25,
   "metadata": {},
   "outputs": [
    {
     "data": {
      "text/html": [
       "<table>\n",
       "<caption>A data.frame: 1 × 6</caption>\n",
       "<thead>\n",
       "\t<tr><th></th><th scope=col>BICYCLES</th><th scope=col>CITY_ASCII</th><th scope=col>COUNTRY</th><th scope=col>LAT</th><th scope=col>LNG</th><th scope=col>POPULATION</th></tr>\n",
       "\t<tr><th></th><th scope=col>&lt;int&gt;</th><th scope=col>&lt;fct&gt;</th><th scope=col>&lt;fct&gt;</th><th scope=col>&lt;dbl&gt;</th><th scope=col>&lt;dbl&gt;</th><th scope=col>&lt;int&gt;</th></tr>\n",
       "</thead>\n",
       "<tbody>\n",
       "\t<tr><th scope=row>1</th><td>20000</td><td>Seoul</td><td>Korea, South</td><td>37.58</td><td>127</td><td>21794000</td></tr>\n",
       "</tbody>\n",
       "</table>\n"
      ],
      "text/latex": [
       "A data.frame: 1 × 6\n",
       "\\begin{tabular}{r|llllll}\n",
       "  & BICYCLES & CITY\\_ASCII & COUNTRY & LAT & LNG & POPULATION\\\\\n",
       "  & <int> & <fct> & <fct> & <dbl> & <dbl> & <int>\\\\\n",
       "\\hline\n",
       "\t1 & 20000 & Seoul & Korea, South & 37.58 & 127 & 21794000\\\\\n",
       "\\end{tabular}\n"
      ],
      "text/markdown": [
       "\n",
       "A data.frame: 1 × 6\n",
       "\n",
       "| <!--/--> | BICYCLES &lt;int&gt; | CITY_ASCII &lt;fct&gt; | COUNTRY &lt;fct&gt; | LAT &lt;dbl&gt; | LNG &lt;dbl&gt; | POPULATION &lt;int&gt; |\n",
       "|---|---|---|---|---|---|---|\n",
       "| 1 | 20000 | Seoul | Korea, South | 37.58 | 127 | 21794000 |\n",
       "\n"
      ],
      "text/plain": [
       "  BICYCLES CITY_ASCII COUNTRY      LAT   LNG POPULATION\n",
       "1 20000    Seoul      Korea, South 37.58 127 21794000  "
      ]
     },
     "metadata": {},
     "output_type": "display_data"
    }
   ],
   "source": [
    "# provide your solution here\n",
    "query10 <- paste(\"SELECT BS.BICYCLES, WC.CITY_ASCII, WC.COUNTRY, WC.LAT, WC.LNG, WC.POPULATION FROM BIKE_SHARING_SYSTEMS AS BS, \n",
    "WORLD_CITIES AS WC WHERE WC.CITY_ASCII = BS.CITY AND WC.CITY = 'Seoul'\")\n",
    "total_bike <- sqlQuery(conn, query10)\n",
    "total_bike"
   ]
  },
  {
   "cell_type": "markdown",
   "metadata": {},
   "source": [
    "## Task 11 - Find all city names and coordinates with comparable bike scale to Seoul's bike sharing system\n",
    "\n",
    "#### Find all cities with total bike counts between 15000 and 20000. Return the city and country names, plus the coordinates (LAT, LNG), population, and number of bicycles for each city.\n",
    "\n",
    "Later we will ask you to visualize these similar cities on leaflet, with some weather data.\n"
   ]
  },
  {
   "cell_type": "markdown",
   "metadata": {},
   "source": [
    "### Solution 11\n"
   ]
  },
  {
   "cell_type": "code",
   "execution_count": 30,
   "metadata": {},
   "outputs": [
    {
     "data": {
      "text/html": [
       "<table>\n",
       "<caption>A data.frame: 7 × 6</caption>\n",
       "<thead>\n",
       "\t<tr><th></th><th scope=col>BICYCLES</th><th scope=col>CITY_ASCII</th><th scope=col>COUNTRY</th><th scope=col>LAT</th><th scope=col>LNG</th><th scope=col>POPULATION</th></tr>\n",
       "\t<tr><th></th><th scope=col>&lt;int&gt;</th><th scope=col>&lt;fct&gt;</th><th scope=col>&lt;fct&gt;</th><th scope=col>&lt;dbl&gt;</th><th scope=col>&lt;dbl&gt;</th><th scope=col>&lt;int&gt;</th></tr>\n",
       "</thead>\n",
       "<tbody>\n",
       "\t<tr><th scope=row>1</th><td>20000</td><td>Seoul   </td><td>Korea, South</td><td>37.58</td><td>127.00</td><td>21794000</td></tr>\n",
       "\t<tr><th scope=row>2</th><td>20000</td><td>Weifang </td><td>China       </td><td>36.71</td><td>119.10</td><td> 9373000</td></tr>\n",
       "\t<tr><th scope=row>3</th><td>20000</td><td>Xi'an   </td><td>China       </td><td>34.26</td><td>108.90</td><td> 7135000</td></tr>\n",
       "\t<tr><th scope=row>4</th><td>20000</td><td>Zhuzhou </td><td>China       </td><td>27.84</td><td>113.14</td><td> 3855609</td></tr>\n",
       "\t<tr><th scope=row>5</th><td>19165</td><td>Shanghai</td><td>China       </td><td>31.16</td><td>121.46</td><td>22120000</td></tr>\n",
       "\t<tr><th scope=row>6</th><td>16000</td><td>Beijing </td><td>China       </td><td>39.90</td><td>116.39</td><td>19433000</td></tr>\n",
       "\t<tr><th scope=row>7</th><td>15000</td><td>Ningbo  </td><td>China       </td><td>29.87</td><td>121.54</td><td> 7639000</td></tr>\n",
       "</tbody>\n",
       "</table>\n"
      ],
      "text/latex": [
       "A data.frame: 7 × 6\n",
       "\\begin{tabular}{r|llllll}\n",
       "  & BICYCLES & CITY\\_ASCII & COUNTRY & LAT & LNG & POPULATION\\\\\n",
       "  & <int> & <fct> & <fct> & <dbl> & <dbl> & <int>\\\\\n",
       "\\hline\n",
       "\t1 & 20000 & Seoul    & Korea, South & 37.58 & 127.00 & 21794000\\\\\n",
       "\t2 & 20000 & Weifang  & China        & 36.71 & 119.10 &  9373000\\\\\n",
       "\t3 & 20000 & Xi'an    & China        & 34.26 & 108.90 &  7135000\\\\\n",
       "\t4 & 20000 & Zhuzhou  & China        & 27.84 & 113.14 &  3855609\\\\\n",
       "\t5 & 19165 & Shanghai & China        & 31.16 & 121.46 & 22120000\\\\\n",
       "\t6 & 16000 & Beijing  & China        & 39.90 & 116.39 & 19433000\\\\\n",
       "\t7 & 15000 & Ningbo   & China        & 29.87 & 121.54 &  7639000\\\\\n",
       "\\end{tabular}\n"
      ],
      "text/markdown": [
       "\n",
       "A data.frame: 7 × 6\n",
       "\n",
       "| <!--/--> | BICYCLES &lt;int&gt; | CITY_ASCII &lt;fct&gt; | COUNTRY &lt;fct&gt; | LAT &lt;dbl&gt; | LNG &lt;dbl&gt; | POPULATION &lt;int&gt; |\n",
       "|---|---|---|---|---|---|---|\n",
       "| 1 | 20000 | Seoul    | Korea, South | 37.58 | 127.00 | 21794000 |\n",
       "| 2 | 20000 | Weifang  | China        | 36.71 | 119.10 |  9373000 |\n",
       "| 3 | 20000 | Xi'an    | China        | 34.26 | 108.90 |  7135000 |\n",
       "| 4 | 20000 | Zhuzhou  | China        | 27.84 | 113.14 |  3855609 |\n",
       "| 5 | 19165 | Shanghai | China        | 31.16 | 121.46 | 22120000 |\n",
       "| 6 | 16000 | Beijing  | China        | 39.90 | 116.39 | 19433000 |\n",
       "| 7 | 15000 | Ningbo   | China        | 29.87 | 121.54 |  7639000 |\n",
       "\n"
      ],
      "text/plain": [
       "  BICYCLES CITY_ASCII COUNTRY      LAT   LNG    POPULATION\n",
       "1 20000    Seoul      Korea, South 37.58 127.00 21794000  \n",
       "2 20000    Weifang    China        36.71 119.10  9373000  \n",
       "3 20000    Xi'an      China        34.26 108.90  7135000  \n",
       "4 20000    Zhuzhou    China        27.84 113.14  3855609  \n",
       "5 19165    Shanghai   China        31.16 121.46 22120000  \n",
       "6 16000    Beijing    China        39.90 116.39 19433000  \n",
       "7 15000    Ningbo     China        29.87 121.54  7639000  "
      ]
     },
     "metadata": {},
     "output_type": "display_data"
    }
   ],
   "source": [
    "# provide your solution here\n",
    "query11 <- (\"SELECT BS.BICYCLES, WC.CITY_ASCII, WC.COUNTRY, WC.LAT, WC.LNG, WC.POPULATION FROM BIKE_SHARING_SYSTEMS AS BS, \n",
    "WORLD_CITIES AS WC WHERE WC.CITY_ASCII = BS.CITY AND BICYCLES BETWEEN 15000 AND 20000 ORDER BY BICYCLES DESC\")\n",
    "city_names <- sqlQuery(conn, query11)\n",
    "city_names"
   ]
  },
  {
   "cell_type": "code",
   "execution_count": 31,
   "metadata": {},
   "outputs": [],
   "source": [
    "close(conn)"
   ]
  },
  {
   "cell_type": "markdown",
   "metadata": {},
   "source": [
    "## Author(s)\n",
    "\n",
    "<h4> Jeff Grossman </h4>\n",
    "\n",
    "## Contributor(s)\n",
    "\n",
    "<h4> Yan Luo, Rav Ahuja </h4>\n",
    "\n",
    "## Change log\n",
    "\n",
    "| Date       | Version | Changed by    | Change Description                  |\n",
    "| ---------- | ------- | ------------- | ----------------------------------- |\n",
    "| 2021-05-04 | 0.2     | Jeff Grossman | Finalize                            |\n",
    "| 2021-04-22 | 0.2     | Jeff Grossman | Update as per peer review           |\n",
    "| 2021-04-10 | 0.2     | Jeff Grossman | Add data sources and implicit joins |\n",
    "| 2021-04-05 | 0.1     | Jeff Grossman | Start content creation              |\n",
    "\n",
    "## <h3 align=\"center\"> © IBM Corporation 2021. All rights reserved. <h3/>\n"
   ]
  },
  {
   "cell_type": "code",
   "execution_count": null,
   "metadata": {},
   "outputs": [],
   "source": []
  }
 ],
 "metadata": {
  "kernelspec": {
   "display_name": "R",
   "language": "R",
   "name": "conda-env-r-r"
  },
  "language_info": {
   "codemirror_mode": "r",
   "file_extension": ".r",
   "mimetype": "text/x-r-source",
   "name": "R",
   "pygments_lexer": "r",
   "version": "3.5.1"
  },
  "widgets": {
   "state": {},
   "version": "1.1.2"
  }
 },
 "nbformat": 4,
 "nbformat_minor": 4
}
