{
 "cells": [
  {
   "cell_type": "markdown",
   "metadata": {},
   "source": [
    "<a href=\"https://cognitiveclass.ai/?utm_medium=Exinfluencer&utm_source=Exinfluencer&utm_content=000026UJ&utm_term=10006555&utm_id=NA-SkillsNetwork-Channel-SkillsNetworkCoursesIBMDeveloperSkillsNetworkRP0321ENSkillsNetwork25371262-2022-01-01\">\n",
    "    <img src=\"https://cf-courses-data.s3.us.cloud-object-storage.appdomain.cloud/IBMDeveloperSkillsNetwork-RP0101EN-Coursera/v2/M1_R_Basics/images/IDSNlogo.png\" width=\"200\" align=\"center\">\n",
    "</a>\n"
   ]
  },
  {
   "cell_type": "markdown",
   "metadata": {},
   "source": [
    "<h1>Data Wrangling with dplyr</h1>\n",
    "\n",
    "Estimated time needed: **60** minutes\n"
   ]
  },
  {
   "cell_type": "markdown",
   "metadata": {},
   "source": [
    "## Lab Overview:\n",
    "\n",
    "In this lab, you will focus on wrangling the Seoul bike-sharing demand historical dataset. This is the core dataset to build a predictive model later.\n",
    "\n",
    "It contains the following columns:\n",
    "\n",
    "*   `DATE` : Year-month-day\n",
    "*   `RENTED BIKE COUNT`- Count of bikes rented at each hour\n",
    "*   `HOUR`- Hour of he day\n",
    "*   `TEMPERATURE` - Temperature in Celsius\n",
    "*   `HUMIDITY` - Unit is `%`\n",
    "*   `WINDSPEED` - Unit is `m/s`\n",
    "*   `VISIBILITY` - Multiplied by 10m\n",
    "*   `DEW POINT TEMERATURE` - The temperature to which the air would have to cool down in order to reach saturation, unit is Celsius\n",
    "*   `SOLAR RADIATION` - MJ/m2\n",
    "*   `RAINFALL` - mm\n",
    "*   `SNOWFALL` - cm\n",
    "*   `SEASONS` - Winter, Spring, Summer, Autumn\n",
    "*   `HOLIDAY` - Holiday/No holiday\n",
    "*   `FUNCTIONAL DAY` - NoFunc(Non Functional Hours), Fun(Functional hours)\n",
    "\n",
    "For this dataset, you will be asked to use `tidyverse` to perform the following data wrangling tasks:\n",
    "\n",
    "*   **TASK: Detect and handle missing values**\n",
    "*   **TASK: Create indicator (dummy) variables for categorical variables**\n",
    "*   **TASK: Normalize data**\n",
    "\n",
    "Let's start!\n"
   ]
  },
  {
   "cell_type": "markdown",
   "metadata": {},
   "source": [
    "First import the necessary library for this data wrangling task:\n"
   ]
  },
  {
   "cell_type": "code",
   "execution_count": 1,
   "metadata": {},
   "outputs": [
    {
     "name": "stderr",
     "output_type": "stream",
     "text": [
      "Loading required package: tidyverse\n",
      "── Attaching packages ─────────────────────────────────────── tidyverse 1.3.0 ──\n",
      "✔ ggplot2 3.3.0     ✔ purrr   0.3.4\n",
      "✔ tibble  3.0.1     ✔ dplyr   0.8.5\n",
      "✔ tidyr   1.0.2     ✔ stringr 1.4.0\n",
      "✔ readr   1.3.1     ✔ forcats 0.5.0\n",
      "── Conflicts ────────────────────────────────────────── tidyverse_conflicts() ──\n",
      "✖ dplyr::filter() masks stats::filter()\n",
      "✖ dplyr::lag()    masks stats::lag()\n"
     ]
    }
   ],
   "source": [
    "# Check if you need to install the `tidyverse` library\n",
    "require(\"tidyverse\")\n",
    "library(tidyverse)"
   ]
  },
  {
   "cell_type": "markdown",
   "metadata": {},
   "source": [
    "Then load the bike-sharing system data from the csv processed in the previous lab:\n"
   ]
  },
  {
   "cell_type": "code",
   "execution_count": 2,
   "metadata": {},
   "outputs": [
    {
     "name": "stderr",
     "output_type": "stream",
     "text": [
      "Parsed with column specification:\n",
      "cols(\n",
      "  DATE = col_character(),\n",
      "  RENTED_BIKE_COUNT = col_double(),\n",
      "  HOUR = col_double(),\n",
      "  TEMPERATURE = col_double(),\n",
      "  HUMIDITY = col_double(),\n",
      "  WIND_SPEED = col_double(),\n",
      "  VISIBILITY = col_double(),\n",
      "  DEW_POINT_TEMPERATURE = col_double(),\n",
      "  SOLAR_RADIATION = col_double(),\n",
      "  RAINFALL = col_double(),\n",
      "  SNOWFALL = col_double(),\n",
      "  SEASONS = col_character(),\n",
      "  HOLIDAY = col_character(),\n",
      "  FUNCTIONING_DAY = col_character()\n",
      ")\n"
     ]
    }
   ],
   "source": [
    "bike_sharing_df <- read_csv(\"raw_seoul_bike_sharing.csv\")"
   ]
  },
  {
   "cell_type": "code",
   "execution_count": null,
   "metadata": {},
   "outputs": [],
   "source": [
    "# Or you may read it from here again\n",
    "# url <- \"https://cf-courses-data.s3.us.cloud-object-storage.appdomain.cloud/IBMDeveloperSkillsNetwork-RP0321EN-SkillsNetwork/labs/datasets/raw_seoul_bike_sharing.csv\"\n",
    "# Notice some column names in the raw datasets are not standalized if you haven't done them properly in the previous lab"
   ]
  },
  {
   "cell_type": "markdown",
   "metadata": {},
   "source": [
    "First take a quick look at the dataset:\n"
   ]
  },
  {
   "cell_type": "code",
   "execution_count": 3,
   "metadata": {},
   "outputs": [
    {
     "data": {
      "text/plain": [
       "     DATE           RENTED_BIKE_COUNT      HOUR        TEMPERATURE    \n",
       " Length:8760        Min.   :   2.0    Min.   : 0.00   Min.   :-17.80  \n",
       " Class :character   1st Qu.: 214.0    1st Qu.: 5.75   1st Qu.:  3.40  \n",
       " Mode  :character   Median : 542.0    Median :11.50   Median : 13.70  \n",
       "                    Mean   : 729.2    Mean   :11.50   Mean   : 12.87  \n",
       "                    3rd Qu.:1084.0    3rd Qu.:17.25   3rd Qu.: 22.50  \n",
       "                    Max.   :3556.0    Max.   :23.00   Max.   : 39.40  \n",
       "                    NA's   :295                       NA's   :11      \n",
       "    HUMIDITY       WIND_SPEED      VISIBILITY   DEW_POINT_TEMPERATURE\n",
       " Min.   : 0.00   Min.   :0.000   Min.   :  27   Min.   :-30.600      \n",
       " 1st Qu.:42.00   1st Qu.:0.900   1st Qu.: 940   1st Qu.: -4.700      \n",
       " Median :57.00   Median :1.500   Median :1698   Median :  5.100      \n",
       " Mean   :58.23   Mean   :1.725   Mean   :1437   Mean   :  4.074      \n",
       " 3rd Qu.:74.00   3rd Qu.:2.300   3rd Qu.:2000   3rd Qu.: 14.800      \n",
       " Max.   :98.00   Max.   :7.400   Max.   :2000   Max.   : 27.200      \n",
       "                                                                     \n",
       " SOLAR_RADIATION     RAINFALL          SNOWFALL         SEASONS         \n",
       " Min.   :0.0000   Min.   : 0.0000   Min.   :0.00000   Length:8760       \n",
       " 1st Qu.:0.0000   1st Qu.: 0.0000   1st Qu.:0.00000   Class :character  \n",
       " Median :0.0100   Median : 0.0000   Median :0.00000   Mode  :character  \n",
       " Mean   :0.5691   Mean   : 0.1487   Mean   :0.07507                     \n",
       " 3rd Qu.:0.9300   3rd Qu.: 0.0000   3rd Qu.:0.00000                     \n",
       " Max.   :3.5200   Max.   :35.0000   Max.   :8.80000                     \n",
       "                                                                        \n",
       "   HOLIDAY          FUNCTIONING_DAY   \n",
       " Length:8760        Length:8760       \n",
       " Class :character   Class :character  \n",
       " Mode  :character   Mode  :character  \n",
       "                                      \n",
       "                                      \n",
       "                                      \n",
       "                                      "
      ]
     },
     "metadata": {},
     "output_type": "display_data"
    },
    {
     "data": {
      "text/html": [
       "<style>\n",
       ".list-inline {list-style: none; margin:0; padding: 0}\n",
       ".list-inline>li {display: inline-block}\n",
       ".list-inline>li:not(:last-child)::after {content: \"\\00b7\"; padding: 0 .5ex}\n",
       "</style>\n",
       "<ol class=list-inline><li>8760</li><li>14</li></ol>\n"
      ],
      "text/latex": [
       "\\begin{enumerate*}\n",
       "\\item 8760\n",
       "\\item 14\n",
       "\\end{enumerate*}\n"
      ],
      "text/markdown": [
       "1. 8760\n",
       "2. 14\n",
       "\n",
       "\n"
      ],
      "text/plain": [
       "[1] 8760   14"
      ]
     },
     "metadata": {},
     "output_type": "display_data"
    }
   ],
   "source": [
    "summary(bike_sharing_df)\n",
    "dim(bike_sharing_df)"
   ]
  },
  {
   "cell_type": "markdown",
   "metadata": {},
   "source": [
    "From the summary, we can observe that:\n",
    "\n",
    "Columns `RENTED_BIKE_COUNT`, `TEMPERATURE`, `HUMIDITY`, `WIND_SPEED`, `VISIBILITY`, `DEW_POINT_TEMPERATURE`, `SOLAR_RADIATION`, `RAINFALL`, `SNOWFALL` are numerical variables/columns and require normalization. Moreover, `RENTED_BIKE_COUNT` and `TEMPERATURE` have some missing values (NA's) that need to be handled properly.\n",
    "\n",
    "`SEASONS`, `HOLIDAY`, `FUNCTIONING_DAY` are categorical variables which need to be converted into indicator columns or dummy variables.\n",
    "Also, `HOUR` is read as a numerical variable but it is in fact a categorical variable with levels ranging from 0 to 23.\n",
    "\n",
    "Now that you have some basic ideas about how to process this bike-sharing demand dataset, let's start working on it!\n"
   ]
  },
  {
   "cell_type": "markdown",
   "metadata": {},
   "source": [
    "# TASK: Detect and handle missing values\n"
   ]
  },
  {
   "cell_type": "markdown",
   "metadata": {},
   "source": [
    "The `RENTED_BIKE_COUNT` column has about 295 missing values, and `TEMPERATURE` has about 11 missing values. Those missing values could be caused by not being recorded, or from malfunctioning bike-sharing systems or weather sensor networks. In any cases, the identified missing values have to be properly handled.\n"
   ]
  },
  {
   "cell_type": "markdown",
   "metadata": {},
   "source": [
    "Let's first handle missing values in `RENTED_BIKE_COUNT` column:\n"
   ]
  },
  {
   "cell_type": "markdown",
   "metadata": {},
   "source": [
    "Considering `RENTED_BIKE_COUNT` is the response variable/dependent variable, i.e., we want to predict the `RENTED_BIKE_COUNT` using other predictor/independent variables later, and we normally can not allow missing values for the response variable, so missing values for response variable must be either dropped or imputed properly.\n",
    "\n",
    "We can see that `RENTED_BIKE_COUNT` only has about 3% missing values (295 / 8760). As such, you can safely drop any rows whose `RENTED_BIKE_COUNT` has missing values.\n"
   ]
  },
  {
   "cell_type": "markdown",
   "metadata": {},
   "source": [
    "*TODO:* Drop rows with missing values in the `RENTED_BIKE_COUNT` column\n"
   ]
  },
  {
   "cell_type": "code",
   "execution_count": 4,
   "metadata": {},
   "outputs": [
    {
     "data": {
      "text/html": [
       "<table>\n",
       "<caption>A tibble: 8465 × 14</caption>\n",
       "<thead>\n",
       "\t<tr><th scope=col>DATE</th><th scope=col>RENTED_BIKE_COUNT</th><th scope=col>HOUR</th><th scope=col>TEMPERATURE</th><th scope=col>HUMIDITY</th><th scope=col>WIND_SPEED</th><th scope=col>VISIBILITY</th><th scope=col>DEW_POINT_TEMPERATURE</th><th scope=col>SOLAR_RADIATION</th><th scope=col>RAINFALL</th><th scope=col>SNOWFALL</th><th scope=col>SEASONS</th><th scope=col>HOLIDAY</th><th scope=col>FUNCTIONING_DAY</th></tr>\n",
       "\t<tr><th scope=col>&lt;chr&gt;</th><th scope=col>&lt;dbl&gt;</th><th scope=col>&lt;dbl&gt;</th><th scope=col>&lt;dbl&gt;</th><th scope=col>&lt;dbl&gt;</th><th scope=col>&lt;dbl&gt;</th><th scope=col>&lt;dbl&gt;</th><th scope=col>&lt;dbl&gt;</th><th scope=col>&lt;dbl&gt;</th><th scope=col>&lt;dbl&gt;</th><th scope=col>&lt;dbl&gt;</th><th scope=col>&lt;chr&gt;</th><th scope=col>&lt;chr&gt;</th><th scope=col>&lt;chr&gt;</th></tr>\n",
       "</thead>\n",
       "<tbody>\n",
       "\t<tr><td>01/12/2017</td><td>254</td><td> 0</td><td>-5.2</td><td>37</td><td>2.2</td><td>2000</td><td>-17.6</td><td>0.00</td><td>0</td><td>0</td><td>Winter</td><td>No Holiday</td><td>Yes</td></tr>\n",
       "\t<tr><td>01/12/2017</td><td>204</td><td> 1</td><td>-5.5</td><td>38</td><td>0.8</td><td>2000</td><td>-17.6</td><td>0.00</td><td>0</td><td>0</td><td>Winter</td><td>No Holiday</td><td>Yes</td></tr>\n",
       "\t<tr><td>01/12/2017</td><td>173</td><td> 2</td><td>-6.0</td><td>39</td><td>1.0</td><td>2000</td><td>-17.7</td><td>0.00</td><td>0</td><td>0</td><td>Winter</td><td>No Holiday</td><td>Yes</td></tr>\n",
       "\t<tr><td>01/12/2017</td><td>107</td><td> 3</td><td>-6.2</td><td>40</td><td>0.9</td><td>2000</td><td>-17.6</td><td>0.00</td><td>0</td><td>0</td><td>Winter</td><td>No Holiday</td><td>Yes</td></tr>\n",
       "\t<tr><td>01/12/2017</td><td> 78</td><td> 4</td><td>-6.0</td><td>36</td><td>2.3</td><td>2000</td><td>-18.6</td><td>0.00</td><td>0</td><td>0</td><td>Winter</td><td>No Holiday</td><td>Yes</td></tr>\n",
       "\t<tr><td>01/12/2017</td><td>100</td><td> 5</td><td>-6.4</td><td>37</td><td>1.5</td><td>2000</td><td>-18.7</td><td>0.00</td><td>0</td><td>0</td><td>Winter</td><td>No Holiday</td><td>Yes</td></tr>\n",
       "\t<tr><td>01/12/2017</td><td>181</td><td> 6</td><td>-6.6</td><td>35</td><td>1.3</td><td>2000</td><td>-19.5</td><td>0.00</td><td>0</td><td>0</td><td>Winter</td><td>No Holiday</td><td>Yes</td></tr>\n",
       "\t<tr><td>01/12/2017</td><td>460</td><td> 7</td><td>-7.4</td><td>38</td><td>0.9</td><td>2000</td><td>-19.3</td><td>0.00</td><td>0</td><td>0</td><td>Winter</td><td>No Holiday</td><td>Yes</td></tr>\n",
       "\t<tr><td>01/12/2017</td><td>930</td><td> 8</td><td>-7.6</td><td>37</td><td>1.1</td><td>2000</td><td>-19.8</td><td>0.01</td><td>0</td><td>0</td><td>Winter</td><td>No Holiday</td><td>Yes</td></tr>\n",
       "\t<tr><td>01/12/2017</td><td>490</td><td> 9</td><td>-6.5</td><td>27</td><td>0.5</td><td>1928</td><td>-22.4</td><td>0.23</td><td>0</td><td>0</td><td>Winter</td><td>No Holiday</td><td>Yes</td></tr>\n",
       "\t<tr><td>01/12/2017</td><td>339</td><td>10</td><td>-3.5</td><td>24</td><td>1.2</td><td>1996</td><td>-21.2</td><td>0.65</td><td>0</td><td>0</td><td>Winter</td><td>No Holiday</td><td>Yes</td></tr>\n",
       "\t<tr><td>01/12/2017</td><td>360</td><td>11</td><td>-0.5</td><td>21</td><td>1.3</td><td>1936</td><td>-20.2</td><td>0.94</td><td>0</td><td>0</td><td>Winter</td><td>No Holiday</td><td>Yes</td></tr>\n",
       "\t<tr><td>01/12/2017</td><td>449</td><td>12</td><td> 1.7</td><td>23</td><td>1.4</td><td>2000</td><td>-17.2</td><td>1.11</td><td>0</td><td>0</td><td>Winter</td><td>No Holiday</td><td>Yes</td></tr>\n",
       "\t<tr><td>01/12/2017</td><td>451</td><td>13</td><td> 2.4</td><td>25</td><td>1.6</td><td>2000</td><td>-15.6</td><td>1.16</td><td>0</td><td>0</td><td>Winter</td><td>No Holiday</td><td>Yes</td></tr>\n",
       "\t<tr><td>01/12/2017</td><td>447</td><td>14</td><td> 3.0</td><td>26</td><td>2.0</td><td>2000</td><td>-14.6</td><td>1.01</td><td>0</td><td>0</td><td>Winter</td><td>No Holiday</td><td>Yes</td></tr>\n",
       "\t<tr><td>01/12/2017</td><td>463</td><td>15</td><td> 2.1</td><td>36</td><td>3.2</td><td>2000</td><td>-11.4</td><td>0.54</td><td>0</td><td>0</td><td>Winter</td><td>No Holiday</td><td>Yes</td></tr>\n",
       "\t<tr><td>01/12/2017</td><td>484</td><td>16</td><td> 1.2</td><td>54</td><td>4.2</td><td> 793</td><td> -7.0</td><td>0.24</td><td>0</td><td>0</td><td>Winter</td><td>No Holiday</td><td>Yes</td></tr>\n",
       "\t<tr><td>01/12/2017</td><td>555</td><td>17</td><td> 0.8</td><td>58</td><td>1.6</td><td>2000</td><td> -6.5</td><td>0.08</td><td>0</td><td>0</td><td>Winter</td><td>No Holiday</td><td>Yes</td></tr>\n",
       "\t<tr><td>01/12/2017</td><td>862</td><td>18</td><td> 0.6</td><td>66</td><td>1.4</td><td>2000</td><td> -5.0</td><td>0.00</td><td>0</td><td>0</td><td>Winter</td><td>No Holiday</td><td>Yes</td></tr>\n",
       "\t<tr><td>01/12/2017</td><td>600</td><td>19</td><td> 0.0</td><td>77</td><td>1.7</td><td>2000</td><td> -3.5</td><td>0.00</td><td>0</td><td>0</td><td>Winter</td><td>No Holiday</td><td>Yes</td></tr>\n",
       "\t<tr><td>01/12/2017</td><td>426</td><td>20</td><td>-0.3</td><td>79</td><td>1.5</td><td>1913</td><td> -3.5</td><td>0.00</td><td>0</td><td>0</td><td>Winter</td><td>No Holiday</td><td>Yes</td></tr>\n",
       "\t<tr><td>01/12/2017</td><td>405</td><td>21</td><td>-0.8</td><td>81</td><td>0.8</td><td>1687</td><td> -3.6</td><td>0.00</td><td>0</td><td>0</td><td>Winter</td><td>No Holiday</td><td>Yes</td></tr>\n",
       "\t<tr><td>01/12/2017</td><td>398</td><td>22</td><td>-0.9</td><td>83</td><td>1.5</td><td>1380</td><td> -3.4</td><td>0.00</td><td>0</td><td>0</td><td>Winter</td><td>No Holiday</td><td>Yes</td></tr>\n",
       "\t<tr><td>01/12/2017</td><td>323</td><td>23</td><td>-1.3</td><td>84</td><td>1.0</td><td>1265</td><td> -3.6</td><td>0.00</td><td>0</td><td>0</td><td>Winter</td><td>No Holiday</td><td>Yes</td></tr>\n",
       "\t<tr><td>02/12/2017</td><td>328</td><td> 0</td><td>-1.8</td><td>87</td><td>1.1</td><td> 994</td><td> -3.6</td><td>0.00</td><td>0</td><td>0</td><td>Winter</td><td>No Holiday</td><td>Yes</td></tr>\n",
       "\t<tr><td>02/12/2017</td><td>308</td><td> 1</td><td>-2.2</td><td>86</td><td>0.6</td><td> 990</td><td> -4.2</td><td>0.00</td><td>0</td><td>0</td><td>Winter</td><td>No Holiday</td><td>Yes</td></tr>\n",
       "\t<tr><td>02/12/2017</td><td>262</td><td> 2</td><td>-2.9</td><td>86</td><td>1.5</td><td>1256</td><td> -4.9</td><td>0.00</td><td>0</td><td>0</td><td>Winter</td><td>No Holiday</td><td>Yes</td></tr>\n",
       "\t<tr><td>02/12/2017</td><td>167</td><td> 3</td><td>-3.5</td><td>81</td><td>2.2</td><td>1221</td><td> -6.2</td><td>0.00</td><td>0</td><td>0</td><td>Winter</td><td>No Holiday</td><td>Yes</td></tr>\n",
       "\t<tr><td>02/12/2017</td><td> 89</td><td> 4</td><td>-3.8</td><td>79</td><td>2.0</td><td>1167</td><td> -6.9</td><td>0.00</td><td>0</td><td>0</td><td>Winter</td><td>No Holiday</td><td>Yes</td></tr>\n",
       "\t<tr><td>02/12/2017</td><td> 79</td><td> 5</td><td>-4.0</td><td>79</td><td>1.5</td><td>1202</td><td> -7.1</td><td>0.00</td><td>0</td><td>0</td><td>Winter</td><td>No Holiday</td><td>Yes</td></tr>\n",
       "\t<tr><td>⋮</td><td>⋮</td><td>⋮</td><td>⋮</td><td>⋮</td><td>⋮</td><td>⋮</td><td>⋮</td><td>⋮</td><td>⋮</td><td>⋮</td><td>⋮</td><td>⋮</td><td>⋮</td></tr>\n",
       "\t<tr><td>29/11/2018</td><td>1577</td><td>18</td><td> 0.0</td><td>46</td><td>0.9</td><td>1566</td><td> -4.8</td><td>0.00</td><td>0</td><td>0</td><td>Autumn</td><td>No Holiday</td><td>Yes</td></tr>\n",
       "\t<tr><td>29/11/2018</td><td>1026</td><td>19</td><td> 5.2</td><td>48</td><td>1.9</td><td>1590</td><td> -4.9</td><td>0.00</td><td>0</td><td>0</td><td>Autumn</td><td>No Holiday</td><td>Yes</td></tr>\n",
       "\t<tr><td>29/11/2018</td><td> 818</td><td>20</td><td> 4.1</td><td>54</td><td>1.3</td><td>1434</td><td> -4.3</td><td>0.00</td><td>0</td><td>0</td><td>Autumn</td><td>No Holiday</td><td>Yes</td></tr>\n",
       "\t<tr><td>29/11/2018</td><td> 792</td><td>21</td><td> 3.8</td><td>55</td><td>2.1</td><td>1231</td><td> -4.4</td><td>0.00</td><td>0</td><td>0</td><td>Autumn</td><td>No Holiday</td><td>Yes</td></tr>\n",
       "\t<tr><td>29/11/2018</td><td> 726</td><td>22</td><td> 3.0</td><td>59</td><td>1.1</td><td>1218</td><td> -4.2</td><td>0.00</td><td>0</td><td>0</td><td>Autumn</td><td>No Holiday</td><td>Yes</td></tr>\n",
       "\t<tr><td>29/11/2018</td><td> 559</td><td>23</td><td> 2.6</td><td>56</td><td>1.9</td><td>1394</td><td> -5.3</td><td>0.00</td><td>0</td><td>0</td><td>Autumn</td><td>No Holiday</td><td>Yes</td></tr>\n",
       "\t<tr><td>30/11/2018</td><td> 474</td><td> 0</td><td> 1.8</td><td>62</td><td>1.6</td><td>1411</td><td> -4.7</td><td>0.00</td><td>0</td><td>0</td><td>Autumn</td><td>No Holiday</td><td>Yes</td></tr>\n",
       "\t<tr><td>30/11/2018</td><td> 456</td><td> 1</td><td> 1.3</td><td>63</td><td>2.0</td><td>1379</td><td> -4.9</td><td>0.00</td><td>0</td><td>0</td><td>Autumn</td><td>No Holiday</td><td>Yes</td></tr>\n",
       "\t<tr><td>30/11/2018</td><td> 300</td><td> 2</td><td> 0.6</td><td>66</td><td>0.5</td><td>1368</td><td> -5.0</td><td>0.00</td><td>0</td><td>0</td><td>Autumn</td><td>No Holiday</td><td>Yes</td></tr>\n",
       "\t<tr><td>30/11/2018</td><td> 213</td><td> 3</td><td>-0.1</td><td>69</td><td>0.9</td><td>1338</td><td> -5.1</td><td>0.00</td><td>0</td><td>0</td><td>Autumn</td><td>No Holiday</td><td>Yes</td></tr>\n",
       "\t<tr><td>30/11/2018</td><td> 116</td><td> 4</td><td>-0.5</td><td>71</td><td>0.4</td><td>1345</td><td> -5.1</td><td>0.00</td><td>0</td><td>0</td><td>Autumn</td><td>No Holiday</td><td>Yes</td></tr>\n",
       "\t<tr><td>30/11/2018</td><td> 149</td><td> 5</td><td>-0.7</td><td>66</td><td>0.5</td><td>1336</td><td> -6.2</td><td>0.00</td><td>0</td><td>0</td><td>Autumn</td><td>No Holiday</td><td>Yes</td></tr>\n",
       "\t<tr><td>30/11/2018</td><td> 293</td><td> 6</td><td>-0.8</td><td>68</td><td>0.8</td><td>1322</td><td> -5.9</td><td>0.00</td><td>0</td><td>0</td><td>Autumn</td><td>No Holiday</td><td>Yes</td></tr>\n",
       "\t<tr><td>30/11/2018</td><td> 750</td><td> 7</td><td>-1.2</td><td>70</td><td>0.8</td><td>1351</td><td> -5.9</td><td>0.00</td><td>0</td><td>0</td><td>Autumn</td><td>No Holiday</td><td>Yes</td></tr>\n",
       "\t<tr><td>30/11/2018</td><td>1527</td><td> 8</td><td>-1.5</td><td>68</td><td>1.1</td><td>1286</td><td> -6.6</td><td>0.02</td><td>0</td><td>0</td><td>Autumn</td><td>No Holiday</td><td>Yes</td></tr>\n",
       "\t<tr><td>30/11/2018</td><td> 809</td><td> 9</td><td>-0.4</td><td>57</td><td>0.6</td><td>1270</td><td> -7.8</td><td>0.45</td><td>0</td><td>0</td><td>Autumn</td><td>No Holiday</td><td>Yes</td></tr>\n",
       "\t<tr><td>30/11/2018</td><td> 554</td><td>10</td><td> 1.9</td><td>51</td><td>0.8</td><td>1029</td><td> -7.1</td><td>1.01</td><td>0</td><td>0</td><td>Autumn</td><td>No Holiday</td><td>Yes</td></tr>\n",
       "\t<tr><td>30/11/2018</td><td> 642</td><td>11</td><td> 5.3</td><td>43</td><td>1.8</td><td>1177</td><td> -6.2</td><td>1.38</td><td>0</td><td>0</td><td>Autumn</td><td>No Holiday</td><td>Yes</td></tr>\n",
       "\t<tr><td>30/11/2018</td><td> 720</td><td>12</td><td> 6.6</td><td>35</td><td>1.3</td><td>1409</td><td> -7.8</td><td>1.70</td><td>0</td><td>0</td><td>Autumn</td><td>No Holiday</td><td>Yes</td></tr>\n",
       "\t<tr><td>30/11/2018</td><td> 740</td><td>13</td><td> 7.1</td><td>24</td><td>2.8</td><td>1838</td><td>-12.1</td><td>1.83</td><td>0</td><td>0</td><td>Autumn</td><td>No Holiday</td><td>Yes</td></tr>\n",
       "\t<tr><td>30/11/2018</td><td> 761</td><td>14</td><td> 7.8</td><td>20</td><td>2.2</td><td>2000</td><td>-13.8</td><td>1.67</td><td>0</td><td>0</td><td>Autumn</td><td>No Holiday</td><td>Yes</td></tr>\n",
       "\t<tr><td>30/11/2018</td><td> 768</td><td>15</td><td> 7.0</td><td>20</td><td>3.3</td><td>1994</td><td>-14.4</td><td>1.21</td><td>0</td><td>0</td><td>Autumn</td><td>No Holiday</td><td>Yes</td></tr>\n",
       "\t<tr><td>30/11/2018</td><td> 837</td><td>16</td><td> 7.2</td><td>23</td><td>1.5</td><td>1945</td><td>-12.6</td><td>0.72</td><td>0</td><td>0</td><td>Autumn</td><td>No Holiday</td><td>Yes</td></tr>\n",
       "\t<tr><td>30/11/2018</td><td>1047</td><td>17</td><td> 6.0</td><td>29</td><td>2.1</td><td>1877</td><td>-10.7</td><td>0.23</td><td>0</td><td>0</td><td>Autumn</td><td>No Holiday</td><td>Yes</td></tr>\n",
       "\t<tr><td>30/11/2018</td><td>1384</td><td>18</td><td> 4.7</td><td>34</td><td>1.9</td><td>1661</td><td> -9.8</td><td>0.00</td><td>0</td><td>0</td><td>Autumn</td><td>No Holiday</td><td>Yes</td></tr>\n",
       "\t<tr><td>30/11/2018</td><td>1003</td><td>19</td><td> 4.2</td><td>34</td><td>2.6</td><td>1894</td><td>-10.3</td><td>0.00</td><td>0</td><td>0</td><td>Autumn</td><td>No Holiday</td><td>Yes</td></tr>\n",
       "\t<tr><td>30/11/2018</td><td> 764</td><td>20</td><td> 3.4</td><td>37</td><td>2.3</td><td>2000</td><td> -9.9</td><td>0.00</td><td>0</td><td>0</td><td>Autumn</td><td>No Holiday</td><td>Yes</td></tr>\n",
       "\t<tr><td>30/11/2018</td><td> 694</td><td>21</td><td> 2.6</td><td>39</td><td>0.3</td><td>1968</td><td> -9.9</td><td>0.00</td><td>0</td><td>0</td><td>Autumn</td><td>No Holiday</td><td>Yes</td></tr>\n",
       "\t<tr><td>30/11/2018</td><td> 712</td><td>22</td><td> 2.1</td><td>41</td><td>1.0</td><td>1859</td><td> -9.8</td><td>0.00</td><td>0</td><td>0</td><td>Autumn</td><td>No Holiday</td><td>Yes</td></tr>\n",
       "\t<tr><td>30/11/2018</td><td> 584</td><td>23</td><td> 1.9</td><td>43</td><td>1.3</td><td>1909</td><td> -9.3</td><td>0.00</td><td>0</td><td>0</td><td>Autumn</td><td>No Holiday</td><td>Yes</td></tr>\n",
       "</tbody>\n",
       "</table>\n"
      ],
      "text/latex": [
       "A tibble: 8465 × 14\n",
       "\\begin{tabular}{llllllllllllll}\n",
       " DATE & RENTED\\_BIKE\\_COUNT & HOUR & TEMPERATURE & HUMIDITY & WIND\\_SPEED & VISIBILITY & DEW\\_POINT\\_TEMPERATURE & SOLAR\\_RADIATION & RAINFALL & SNOWFALL & SEASONS & HOLIDAY & FUNCTIONING\\_DAY\\\\\n",
       " <chr> & <dbl> & <dbl> & <dbl> & <dbl> & <dbl> & <dbl> & <dbl> & <dbl> & <dbl> & <dbl> & <chr> & <chr> & <chr>\\\\\n",
       "\\hline\n",
       "\t 01/12/2017 & 254 &  0 & -5.2 & 37 & 2.2 & 2000 & -17.6 & 0.00 & 0 & 0 & Winter & No Holiday & Yes\\\\\n",
       "\t 01/12/2017 & 204 &  1 & -5.5 & 38 & 0.8 & 2000 & -17.6 & 0.00 & 0 & 0 & Winter & No Holiday & Yes\\\\\n",
       "\t 01/12/2017 & 173 &  2 & -6.0 & 39 & 1.0 & 2000 & -17.7 & 0.00 & 0 & 0 & Winter & No Holiday & Yes\\\\\n",
       "\t 01/12/2017 & 107 &  3 & -6.2 & 40 & 0.9 & 2000 & -17.6 & 0.00 & 0 & 0 & Winter & No Holiday & Yes\\\\\n",
       "\t 01/12/2017 &  78 &  4 & -6.0 & 36 & 2.3 & 2000 & -18.6 & 0.00 & 0 & 0 & Winter & No Holiday & Yes\\\\\n",
       "\t 01/12/2017 & 100 &  5 & -6.4 & 37 & 1.5 & 2000 & -18.7 & 0.00 & 0 & 0 & Winter & No Holiday & Yes\\\\\n",
       "\t 01/12/2017 & 181 &  6 & -6.6 & 35 & 1.3 & 2000 & -19.5 & 0.00 & 0 & 0 & Winter & No Holiday & Yes\\\\\n",
       "\t 01/12/2017 & 460 &  7 & -7.4 & 38 & 0.9 & 2000 & -19.3 & 0.00 & 0 & 0 & Winter & No Holiday & Yes\\\\\n",
       "\t 01/12/2017 & 930 &  8 & -7.6 & 37 & 1.1 & 2000 & -19.8 & 0.01 & 0 & 0 & Winter & No Holiday & Yes\\\\\n",
       "\t 01/12/2017 & 490 &  9 & -6.5 & 27 & 0.5 & 1928 & -22.4 & 0.23 & 0 & 0 & Winter & No Holiday & Yes\\\\\n",
       "\t 01/12/2017 & 339 & 10 & -3.5 & 24 & 1.2 & 1996 & -21.2 & 0.65 & 0 & 0 & Winter & No Holiday & Yes\\\\\n",
       "\t 01/12/2017 & 360 & 11 & -0.5 & 21 & 1.3 & 1936 & -20.2 & 0.94 & 0 & 0 & Winter & No Holiday & Yes\\\\\n",
       "\t 01/12/2017 & 449 & 12 &  1.7 & 23 & 1.4 & 2000 & -17.2 & 1.11 & 0 & 0 & Winter & No Holiday & Yes\\\\\n",
       "\t 01/12/2017 & 451 & 13 &  2.4 & 25 & 1.6 & 2000 & -15.6 & 1.16 & 0 & 0 & Winter & No Holiday & Yes\\\\\n",
       "\t 01/12/2017 & 447 & 14 &  3.0 & 26 & 2.0 & 2000 & -14.6 & 1.01 & 0 & 0 & Winter & No Holiday & Yes\\\\\n",
       "\t 01/12/2017 & 463 & 15 &  2.1 & 36 & 3.2 & 2000 & -11.4 & 0.54 & 0 & 0 & Winter & No Holiday & Yes\\\\\n",
       "\t 01/12/2017 & 484 & 16 &  1.2 & 54 & 4.2 &  793 &  -7.0 & 0.24 & 0 & 0 & Winter & No Holiday & Yes\\\\\n",
       "\t 01/12/2017 & 555 & 17 &  0.8 & 58 & 1.6 & 2000 &  -6.5 & 0.08 & 0 & 0 & Winter & No Holiday & Yes\\\\\n",
       "\t 01/12/2017 & 862 & 18 &  0.6 & 66 & 1.4 & 2000 &  -5.0 & 0.00 & 0 & 0 & Winter & No Holiday & Yes\\\\\n",
       "\t 01/12/2017 & 600 & 19 &  0.0 & 77 & 1.7 & 2000 &  -3.5 & 0.00 & 0 & 0 & Winter & No Holiday & Yes\\\\\n",
       "\t 01/12/2017 & 426 & 20 & -0.3 & 79 & 1.5 & 1913 &  -3.5 & 0.00 & 0 & 0 & Winter & No Holiday & Yes\\\\\n",
       "\t 01/12/2017 & 405 & 21 & -0.8 & 81 & 0.8 & 1687 &  -3.6 & 0.00 & 0 & 0 & Winter & No Holiday & Yes\\\\\n",
       "\t 01/12/2017 & 398 & 22 & -0.9 & 83 & 1.5 & 1380 &  -3.4 & 0.00 & 0 & 0 & Winter & No Holiday & Yes\\\\\n",
       "\t 01/12/2017 & 323 & 23 & -1.3 & 84 & 1.0 & 1265 &  -3.6 & 0.00 & 0 & 0 & Winter & No Holiday & Yes\\\\\n",
       "\t 02/12/2017 & 328 &  0 & -1.8 & 87 & 1.1 &  994 &  -3.6 & 0.00 & 0 & 0 & Winter & No Holiday & Yes\\\\\n",
       "\t 02/12/2017 & 308 &  1 & -2.2 & 86 & 0.6 &  990 &  -4.2 & 0.00 & 0 & 0 & Winter & No Holiday & Yes\\\\\n",
       "\t 02/12/2017 & 262 &  2 & -2.9 & 86 & 1.5 & 1256 &  -4.9 & 0.00 & 0 & 0 & Winter & No Holiday & Yes\\\\\n",
       "\t 02/12/2017 & 167 &  3 & -3.5 & 81 & 2.2 & 1221 &  -6.2 & 0.00 & 0 & 0 & Winter & No Holiday & Yes\\\\\n",
       "\t 02/12/2017 &  89 &  4 & -3.8 & 79 & 2.0 & 1167 &  -6.9 & 0.00 & 0 & 0 & Winter & No Holiday & Yes\\\\\n",
       "\t 02/12/2017 &  79 &  5 & -4.0 & 79 & 1.5 & 1202 &  -7.1 & 0.00 & 0 & 0 & Winter & No Holiday & Yes\\\\\n",
       "\t ⋮ & ⋮ & ⋮ & ⋮ & ⋮ & ⋮ & ⋮ & ⋮ & ⋮ & ⋮ & ⋮ & ⋮ & ⋮ & ⋮\\\\\n",
       "\t 29/11/2018 & 1577 & 18 &  0.0 & 46 & 0.9 & 1566 &  -4.8 & 0.00 & 0 & 0 & Autumn & No Holiday & Yes\\\\\n",
       "\t 29/11/2018 & 1026 & 19 &  5.2 & 48 & 1.9 & 1590 &  -4.9 & 0.00 & 0 & 0 & Autumn & No Holiday & Yes\\\\\n",
       "\t 29/11/2018 &  818 & 20 &  4.1 & 54 & 1.3 & 1434 &  -4.3 & 0.00 & 0 & 0 & Autumn & No Holiday & Yes\\\\\n",
       "\t 29/11/2018 &  792 & 21 &  3.8 & 55 & 2.1 & 1231 &  -4.4 & 0.00 & 0 & 0 & Autumn & No Holiday & Yes\\\\\n",
       "\t 29/11/2018 &  726 & 22 &  3.0 & 59 & 1.1 & 1218 &  -4.2 & 0.00 & 0 & 0 & Autumn & No Holiday & Yes\\\\\n",
       "\t 29/11/2018 &  559 & 23 &  2.6 & 56 & 1.9 & 1394 &  -5.3 & 0.00 & 0 & 0 & Autumn & No Holiday & Yes\\\\\n",
       "\t 30/11/2018 &  474 &  0 &  1.8 & 62 & 1.6 & 1411 &  -4.7 & 0.00 & 0 & 0 & Autumn & No Holiday & Yes\\\\\n",
       "\t 30/11/2018 &  456 &  1 &  1.3 & 63 & 2.0 & 1379 &  -4.9 & 0.00 & 0 & 0 & Autumn & No Holiday & Yes\\\\\n",
       "\t 30/11/2018 &  300 &  2 &  0.6 & 66 & 0.5 & 1368 &  -5.0 & 0.00 & 0 & 0 & Autumn & No Holiday & Yes\\\\\n",
       "\t 30/11/2018 &  213 &  3 & -0.1 & 69 & 0.9 & 1338 &  -5.1 & 0.00 & 0 & 0 & Autumn & No Holiday & Yes\\\\\n",
       "\t 30/11/2018 &  116 &  4 & -0.5 & 71 & 0.4 & 1345 &  -5.1 & 0.00 & 0 & 0 & Autumn & No Holiday & Yes\\\\\n",
       "\t 30/11/2018 &  149 &  5 & -0.7 & 66 & 0.5 & 1336 &  -6.2 & 0.00 & 0 & 0 & Autumn & No Holiday & Yes\\\\\n",
       "\t 30/11/2018 &  293 &  6 & -0.8 & 68 & 0.8 & 1322 &  -5.9 & 0.00 & 0 & 0 & Autumn & No Holiday & Yes\\\\\n",
       "\t 30/11/2018 &  750 &  7 & -1.2 & 70 & 0.8 & 1351 &  -5.9 & 0.00 & 0 & 0 & Autumn & No Holiday & Yes\\\\\n",
       "\t 30/11/2018 & 1527 &  8 & -1.5 & 68 & 1.1 & 1286 &  -6.6 & 0.02 & 0 & 0 & Autumn & No Holiday & Yes\\\\\n",
       "\t 30/11/2018 &  809 &  9 & -0.4 & 57 & 0.6 & 1270 &  -7.8 & 0.45 & 0 & 0 & Autumn & No Holiday & Yes\\\\\n",
       "\t 30/11/2018 &  554 & 10 &  1.9 & 51 & 0.8 & 1029 &  -7.1 & 1.01 & 0 & 0 & Autumn & No Holiday & Yes\\\\\n",
       "\t 30/11/2018 &  642 & 11 &  5.3 & 43 & 1.8 & 1177 &  -6.2 & 1.38 & 0 & 0 & Autumn & No Holiday & Yes\\\\\n",
       "\t 30/11/2018 &  720 & 12 &  6.6 & 35 & 1.3 & 1409 &  -7.8 & 1.70 & 0 & 0 & Autumn & No Holiday & Yes\\\\\n",
       "\t 30/11/2018 &  740 & 13 &  7.1 & 24 & 2.8 & 1838 & -12.1 & 1.83 & 0 & 0 & Autumn & No Holiday & Yes\\\\\n",
       "\t 30/11/2018 &  761 & 14 &  7.8 & 20 & 2.2 & 2000 & -13.8 & 1.67 & 0 & 0 & Autumn & No Holiday & Yes\\\\\n",
       "\t 30/11/2018 &  768 & 15 &  7.0 & 20 & 3.3 & 1994 & -14.4 & 1.21 & 0 & 0 & Autumn & No Holiday & Yes\\\\\n",
       "\t 30/11/2018 &  837 & 16 &  7.2 & 23 & 1.5 & 1945 & -12.6 & 0.72 & 0 & 0 & Autumn & No Holiday & Yes\\\\\n",
       "\t 30/11/2018 & 1047 & 17 &  6.0 & 29 & 2.1 & 1877 & -10.7 & 0.23 & 0 & 0 & Autumn & No Holiday & Yes\\\\\n",
       "\t 30/11/2018 & 1384 & 18 &  4.7 & 34 & 1.9 & 1661 &  -9.8 & 0.00 & 0 & 0 & Autumn & No Holiday & Yes\\\\\n",
       "\t 30/11/2018 & 1003 & 19 &  4.2 & 34 & 2.6 & 1894 & -10.3 & 0.00 & 0 & 0 & Autumn & No Holiday & Yes\\\\\n",
       "\t 30/11/2018 &  764 & 20 &  3.4 & 37 & 2.3 & 2000 &  -9.9 & 0.00 & 0 & 0 & Autumn & No Holiday & Yes\\\\\n",
       "\t 30/11/2018 &  694 & 21 &  2.6 & 39 & 0.3 & 1968 &  -9.9 & 0.00 & 0 & 0 & Autumn & No Holiday & Yes\\\\\n",
       "\t 30/11/2018 &  712 & 22 &  2.1 & 41 & 1.0 & 1859 &  -9.8 & 0.00 & 0 & 0 & Autumn & No Holiday & Yes\\\\\n",
       "\t 30/11/2018 &  584 & 23 &  1.9 & 43 & 1.3 & 1909 &  -9.3 & 0.00 & 0 & 0 & Autumn & No Holiday & Yes\\\\\n",
       "\\end{tabular}\n"
      ],
      "text/markdown": [
       "\n",
       "A tibble: 8465 × 14\n",
       "\n",
       "| DATE &lt;chr&gt; | RENTED_BIKE_COUNT &lt;dbl&gt; | HOUR &lt;dbl&gt; | TEMPERATURE &lt;dbl&gt; | HUMIDITY &lt;dbl&gt; | WIND_SPEED &lt;dbl&gt; | VISIBILITY &lt;dbl&gt; | DEW_POINT_TEMPERATURE &lt;dbl&gt; | SOLAR_RADIATION &lt;dbl&gt; | RAINFALL &lt;dbl&gt; | SNOWFALL &lt;dbl&gt; | SEASONS &lt;chr&gt; | HOLIDAY &lt;chr&gt; | FUNCTIONING_DAY &lt;chr&gt; |\n",
       "|---|---|---|---|---|---|---|---|---|---|---|---|---|---|\n",
       "| 01/12/2017 | 254 |  0 | -5.2 | 37 | 2.2 | 2000 | -17.6 | 0.00 | 0 | 0 | Winter | No Holiday | Yes |\n",
       "| 01/12/2017 | 204 |  1 | -5.5 | 38 | 0.8 | 2000 | -17.6 | 0.00 | 0 | 0 | Winter | No Holiday | Yes |\n",
       "| 01/12/2017 | 173 |  2 | -6.0 | 39 | 1.0 | 2000 | -17.7 | 0.00 | 0 | 0 | Winter | No Holiday | Yes |\n",
       "| 01/12/2017 | 107 |  3 | -6.2 | 40 | 0.9 | 2000 | -17.6 | 0.00 | 0 | 0 | Winter | No Holiday | Yes |\n",
       "| 01/12/2017 |  78 |  4 | -6.0 | 36 | 2.3 | 2000 | -18.6 | 0.00 | 0 | 0 | Winter | No Holiday | Yes |\n",
       "| 01/12/2017 | 100 |  5 | -6.4 | 37 | 1.5 | 2000 | -18.7 | 0.00 | 0 | 0 | Winter | No Holiday | Yes |\n",
       "| 01/12/2017 | 181 |  6 | -6.6 | 35 | 1.3 | 2000 | -19.5 | 0.00 | 0 | 0 | Winter | No Holiday | Yes |\n",
       "| 01/12/2017 | 460 |  7 | -7.4 | 38 | 0.9 | 2000 | -19.3 | 0.00 | 0 | 0 | Winter | No Holiday | Yes |\n",
       "| 01/12/2017 | 930 |  8 | -7.6 | 37 | 1.1 | 2000 | -19.8 | 0.01 | 0 | 0 | Winter | No Holiday | Yes |\n",
       "| 01/12/2017 | 490 |  9 | -6.5 | 27 | 0.5 | 1928 | -22.4 | 0.23 | 0 | 0 | Winter | No Holiday | Yes |\n",
       "| 01/12/2017 | 339 | 10 | -3.5 | 24 | 1.2 | 1996 | -21.2 | 0.65 | 0 | 0 | Winter | No Holiday | Yes |\n",
       "| 01/12/2017 | 360 | 11 | -0.5 | 21 | 1.3 | 1936 | -20.2 | 0.94 | 0 | 0 | Winter | No Holiday | Yes |\n",
       "| 01/12/2017 | 449 | 12 |  1.7 | 23 | 1.4 | 2000 | -17.2 | 1.11 | 0 | 0 | Winter | No Holiday | Yes |\n",
       "| 01/12/2017 | 451 | 13 |  2.4 | 25 | 1.6 | 2000 | -15.6 | 1.16 | 0 | 0 | Winter | No Holiday | Yes |\n",
       "| 01/12/2017 | 447 | 14 |  3.0 | 26 | 2.0 | 2000 | -14.6 | 1.01 | 0 | 0 | Winter | No Holiday | Yes |\n",
       "| 01/12/2017 | 463 | 15 |  2.1 | 36 | 3.2 | 2000 | -11.4 | 0.54 | 0 | 0 | Winter | No Holiday | Yes |\n",
       "| 01/12/2017 | 484 | 16 |  1.2 | 54 | 4.2 |  793 |  -7.0 | 0.24 | 0 | 0 | Winter | No Holiday | Yes |\n",
       "| 01/12/2017 | 555 | 17 |  0.8 | 58 | 1.6 | 2000 |  -6.5 | 0.08 | 0 | 0 | Winter | No Holiday | Yes |\n",
       "| 01/12/2017 | 862 | 18 |  0.6 | 66 | 1.4 | 2000 |  -5.0 | 0.00 | 0 | 0 | Winter | No Holiday | Yes |\n",
       "| 01/12/2017 | 600 | 19 |  0.0 | 77 | 1.7 | 2000 |  -3.5 | 0.00 | 0 | 0 | Winter | No Holiday | Yes |\n",
       "| 01/12/2017 | 426 | 20 | -0.3 | 79 | 1.5 | 1913 |  -3.5 | 0.00 | 0 | 0 | Winter | No Holiday | Yes |\n",
       "| 01/12/2017 | 405 | 21 | -0.8 | 81 | 0.8 | 1687 |  -3.6 | 0.00 | 0 | 0 | Winter | No Holiday | Yes |\n",
       "| 01/12/2017 | 398 | 22 | -0.9 | 83 | 1.5 | 1380 |  -3.4 | 0.00 | 0 | 0 | Winter | No Holiday | Yes |\n",
       "| 01/12/2017 | 323 | 23 | -1.3 | 84 | 1.0 | 1265 |  -3.6 | 0.00 | 0 | 0 | Winter | No Holiday | Yes |\n",
       "| 02/12/2017 | 328 |  0 | -1.8 | 87 | 1.1 |  994 |  -3.6 | 0.00 | 0 | 0 | Winter | No Holiday | Yes |\n",
       "| 02/12/2017 | 308 |  1 | -2.2 | 86 | 0.6 |  990 |  -4.2 | 0.00 | 0 | 0 | Winter | No Holiday | Yes |\n",
       "| 02/12/2017 | 262 |  2 | -2.9 | 86 | 1.5 | 1256 |  -4.9 | 0.00 | 0 | 0 | Winter | No Holiday | Yes |\n",
       "| 02/12/2017 | 167 |  3 | -3.5 | 81 | 2.2 | 1221 |  -6.2 | 0.00 | 0 | 0 | Winter | No Holiday | Yes |\n",
       "| 02/12/2017 |  89 |  4 | -3.8 | 79 | 2.0 | 1167 |  -6.9 | 0.00 | 0 | 0 | Winter | No Holiday | Yes |\n",
       "| 02/12/2017 |  79 |  5 | -4.0 | 79 | 1.5 | 1202 |  -7.1 | 0.00 | 0 | 0 | Winter | No Holiday | Yes |\n",
       "| ⋮ | ⋮ | ⋮ | ⋮ | ⋮ | ⋮ | ⋮ | ⋮ | ⋮ | ⋮ | ⋮ | ⋮ | ⋮ | ⋮ |\n",
       "| 29/11/2018 | 1577 | 18 |  0.0 | 46 | 0.9 | 1566 |  -4.8 | 0.00 | 0 | 0 | Autumn | No Holiday | Yes |\n",
       "| 29/11/2018 | 1026 | 19 |  5.2 | 48 | 1.9 | 1590 |  -4.9 | 0.00 | 0 | 0 | Autumn | No Holiday | Yes |\n",
       "| 29/11/2018 |  818 | 20 |  4.1 | 54 | 1.3 | 1434 |  -4.3 | 0.00 | 0 | 0 | Autumn | No Holiday | Yes |\n",
       "| 29/11/2018 |  792 | 21 |  3.8 | 55 | 2.1 | 1231 |  -4.4 | 0.00 | 0 | 0 | Autumn | No Holiday | Yes |\n",
       "| 29/11/2018 |  726 | 22 |  3.0 | 59 | 1.1 | 1218 |  -4.2 | 0.00 | 0 | 0 | Autumn | No Holiday | Yes |\n",
       "| 29/11/2018 |  559 | 23 |  2.6 | 56 | 1.9 | 1394 |  -5.3 | 0.00 | 0 | 0 | Autumn | No Holiday | Yes |\n",
       "| 30/11/2018 |  474 |  0 |  1.8 | 62 | 1.6 | 1411 |  -4.7 | 0.00 | 0 | 0 | Autumn | No Holiday | Yes |\n",
       "| 30/11/2018 |  456 |  1 |  1.3 | 63 | 2.0 | 1379 |  -4.9 | 0.00 | 0 | 0 | Autumn | No Holiday | Yes |\n",
       "| 30/11/2018 |  300 |  2 |  0.6 | 66 | 0.5 | 1368 |  -5.0 | 0.00 | 0 | 0 | Autumn | No Holiday | Yes |\n",
       "| 30/11/2018 |  213 |  3 | -0.1 | 69 | 0.9 | 1338 |  -5.1 | 0.00 | 0 | 0 | Autumn | No Holiday | Yes |\n",
       "| 30/11/2018 |  116 |  4 | -0.5 | 71 | 0.4 | 1345 |  -5.1 | 0.00 | 0 | 0 | Autumn | No Holiday | Yes |\n",
       "| 30/11/2018 |  149 |  5 | -0.7 | 66 | 0.5 | 1336 |  -6.2 | 0.00 | 0 | 0 | Autumn | No Holiday | Yes |\n",
       "| 30/11/2018 |  293 |  6 | -0.8 | 68 | 0.8 | 1322 |  -5.9 | 0.00 | 0 | 0 | Autumn | No Holiday | Yes |\n",
       "| 30/11/2018 |  750 |  7 | -1.2 | 70 | 0.8 | 1351 |  -5.9 | 0.00 | 0 | 0 | Autumn | No Holiday | Yes |\n",
       "| 30/11/2018 | 1527 |  8 | -1.5 | 68 | 1.1 | 1286 |  -6.6 | 0.02 | 0 | 0 | Autumn | No Holiday | Yes |\n",
       "| 30/11/2018 |  809 |  9 | -0.4 | 57 | 0.6 | 1270 |  -7.8 | 0.45 | 0 | 0 | Autumn | No Holiday | Yes |\n",
       "| 30/11/2018 |  554 | 10 |  1.9 | 51 | 0.8 | 1029 |  -7.1 | 1.01 | 0 | 0 | Autumn | No Holiday | Yes |\n",
       "| 30/11/2018 |  642 | 11 |  5.3 | 43 | 1.8 | 1177 |  -6.2 | 1.38 | 0 | 0 | Autumn | No Holiday | Yes |\n",
       "| 30/11/2018 |  720 | 12 |  6.6 | 35 | 1.3 | 1409 |  -7.8 | 1.70 | 0 | 0 | Autumn | No Holiday | Yes |\n",
       "| 30/11/2018 |  740 | 13 |  7.1 | 24 | 2.8 | 1838 | -12.1 | 1.83 | 0 | 0 | Autumn | No Holiday | Yes |\n",
       "| 30/11/2018 |  761 | 14 |  7.8 | 20 | 2.2 | 2000 | -13.8 | 1.67 | 0 | 0 | Autumn | No Holiday | Yes |\n",
       "| 30/11/2018 |  768 | 15 |  7.0 | 20 | 3.3 | 1994 | -14.4 | 1.21 | 0 | 0 | Autumn | No Holiday | Yes |\n",
       "| 30/11/2018 |  837 | 16 |  7.2 | 23 | 1.5 | 1945 | -12.6 | 0.72 | 0 | 0 | Autumn | No Holiday | Yes |\n",
       "| 30/11/2018 | 1047 | 17 |  6.0 | 29 | 2.1 | 1877 | -10.7 | 0.23 | 0 | 0 | Autumn | No Holiday | Yes |\n",
       "| 30/11/2018 | 1384 | 18 |  4.7 | 34 | 1.9 | 1661 |  -9.8 | 0.00 | 0 | 0 | Autumn | No Holiday | Yes |\n",
       "| 30/11/2018 | 1003 | 19 |  4.2 | 34 | 2.6 | 1894 | -10.3 | 0.00 | 0 | 0 | Autumn | No Holiday | Yes |\n",
       "| 30/11/2018 |  764 | 20 |  3.4 | 37 | 2.3 | 2000 |  -9.9 | 0.00 | 0 | 0 | Autumn | No Holiday | Yes |\n",
       "| 30/11/2018 |  694 | 21 |  2.6 | 39 | 0.3 | 1968 |  -9.9 | 0.00 | 0 | 0 | Autumn | No Holiday | Yes |\n",
       "| 30/11/2018 |  712 | 22 |  2.1 | 41 | 1.0 | 1859 |  -9.8 | 0.00 | 0 | 0 | Autumn | No Holiday | Yes |\n",
       "| 30/11/2018 |  584 | 23 |  1.9 | 43 | 1.3 | 1909 |  -9.3 | 0.00 | 0 | 0 | Autumn | No Holiday | Yes |\n",
       "\n"
      ],
      "text/plain": [
       "     DATE       RENTED_BIKE_COUNT HOUR TEMPERATURE HUMIDITY WIND_SPEED\n",
       "1    01/12/2017 254                0   -5.2        37       2.2       \n",
       "2    01/12/2017 204                1   -5.5        38       0.8       \n",
       "3    01/12/2017 173                2   -6.0        39       1.0       \n",
       "4    01/12/2017 107                3   -6.2        40       0.9       \n",
       "5    01/12/2017  78                4   -6.0        36       2.3       \n",
       "6    01/12/2017 100                5   -6.4        37       1.5       \n",
       "7    01/12/2017 181                6   -6.6        35       1.3       \n",
       "8    01/12/2017 460                7   -7.4        38       0.9       \n",
       "9    01/12/2017 930                8   -7.6        37       1.1       \n",
       "10   01/12/2017 490                9   -6.5        27       0.5       \n",
       "11   01/12/2017 339               10   -3.5        24       1.2       \n",
       "12   01/12/2017 360               11   -0.5        21       1.3       \n",
       "13   01/12/2017 449               12    1.7        23       1.4       \n",
       "14   01/12/2017 451               13    2.4        25       1.6       \n",
       "15   01/12/2017 447               14    3.0        26       2.0       \n",
       "16   01/12/2017 463               15    2.1        36       3.2       \n",
       "17   01/12/2017 484               16    1.2        54       4.2       \n",
       "18   01/12/2017 555               17    0.8        58       1.6       \n",
       "19   01/12/2017 862               18    0.6        66       1.4       \n",
       "20   01/12/2017 600               19    0.0        77       1.7       \n",
       "21   01/12/2017 426               20   -0.3        79       1.5       \n",
       "22   01/12/2017 405               21   -0.8        81       0.8       \n",
       "23   01/12/2017 398               22   -0.9        83       1.5       \n",
       "24   01/12/2017 323               23   -1.3        84       1.0       \n",
       "25   02/12/2017 328                0   -1.8        87       1.1       \n",
       "26   02/12/2017 308                1   -2.2        86       0.6       \n",
       "27   02/12/2017 262                2   -2.9        86       1.5       \n",
       "28   02/12/2017 167                3   -3.5        81       2.2       \n",
       "29   02/12/2017  89                4   -3.8        79       2.0       \n",
       "30   02/12/2017  79                5   -4.0        79       1.5       \n",
       "⋮    ⋮          ⋮                 ⋮    ⋮           ⋮        ⋮         \n",
       "8436 29/11/2018 1577              18    0.0        46       0.9       \n",
       "8437 29/11/2018 1026              19    5.2        48       1.9       \n",
       "8438 29/11/2018  818              20    4.1        54       1.3       \n",
       "8439 29/11/2018  792              21    3.8        55       2.1       \n",
       "8440 29/11/2018  726              22    3.0        59       1.1       \n",
       "8441 29/11/2018  559              23    2.6        56       1.9       \n",
       "8442 30/11/2018  474               0    1.8        62       1.6       \n",
       "8443 30/11/2018  456               1    1.3        63       2.0       \n",
       "8444 30/11/2018  300               2    0.6        66       0.5       \n",
       "8445 30/11/2018  213               3   -0.1        69       0.9       \n",
       "8446 30/11/2018  116               4   -0.5        71       0.4       \n",
       "8447 30/11/2018  149               5   -0.7        66       0.5       \n",
       "8448 30/11/2018  293               6   -0.8        68       0.8       \n",
       "8449 30/11/2018  750               7   -1.2        70       0.8       \n",
       "8450 30/11/2018 1527               8   -1.5        68       1.1       \n",
       "8451 30/11/2018  809               9   -0.4        57       0.6       \n",
       "8452 30/11/2018  554              10    1.9        51       0.8       \n",
       "8453 30/11/2018  642              11    5.3        43       1.8       \n",
       "8454 30/11/2018  720              12    6.6        35       1.3       \n",
       "8455 30/11/2018  740              13    7.1        24       2.8       \n",
       "8456 30/11/2018  761              14    7.8        20       2.2       \n",
       "8457 30/11/2018  768              15    7.0        20       3.3       \n",
       "8458 30/11/2018  837              16    7.2        23       1.5       \n",
       "8459 30/11/2018 1047              17    6.0        29       2.1       \n",
       "8460 30/11/2018 1384              18    4.7        34       1.9       \n",
       "8461 30/11/2018 1003              19    4.2        34       2.6       \n",
       "8462 30/11/2018  764              20    3.4        37       2.3       \n",
       "8463 30/11/2018  694              21    2.6        39       0.3       \n",
       "8464 30/11/2018  712              22    2.1        41       1.0       \n",
       "8465 30/11/2018  584              23    1.9        43       1.3       \n",
       "     VISIBILITY DEW_POINT_TEMPERATURE SOLAR_RADIATION RAINFALL SNOWFALL SEASONS\n",
       "1    2000       -17.6                 0.00            0        0        Winter \n",
       "2    2000       -17.6                 0.00            0        0        Winter \n",
       "3    2000       -17.7                 0.00            0        0        Winter \n",
       "4    2000       -17.6                 0.00            0        0        Winter \n",
       "5    2000       -18.6                 0.00            0        0        Winter \n",
       "6    2000       -18.7                 0.00            0        0        Winter \n",
       "7    2000       -19.5                 0.00            0        0        Winter \n",
       "8    2000       -19.3                 0.00            0        0        Winter \n",
       "9    2000       -19.8                 0.01            0        0        Winter \n",
       "10   1928       -22.4                 0.23            0        0        Winter \n",
       "11   1996       -21.2                 0.65            0        0        Winter \n",
       "12   1936       -20.2                 0.94            0        0        Winter \n",
       "13   2000       -17.2                 1.11            0        0        Winter \n",
       "14   2000       -15.6                 1.16            0        0        Winter \n",
       "15   2000       -14.6                 1.01            0        0        Winter \n",
       "16   2000       -11.4                 0.54            0        0        Winter \n",
       "17    793        -7.0                 0.24            0        0        Winter \n",
       "18   2000        -6.5                 0.08            0        0        Winter \n",
       "19   2000        -5.0                 0.00            0        0        Winter \n",
       "20   2000        -3.5                 0.00            0        0        Winter \n",
       "21   1913        -3.5                 0.00            0        0        Winter \n",
       "22   1687        -3.6                 0.00            0        0        Winter \n",
       "23   1380        -3.4                 0.00            0        0        Winter \n",
       "24   1265        -3.6                 0.00            0        0        Winter \n",
       "25    994        -3.6                 0.00            0        0        Winter \n",
       "26    990        -4.2                 0.00            0        0        Winter \n",
       "27   1256        -4.9                 0.00            0        0        Winter \n",
       "28   1221        -6.2                 0.00            0        0        Winter \n",
       "29   1167        -6.9                 0.00            0        0        Winter \n",
       "30   1202        -7.1                 0.00            0        0        Winter \n",
       "⋮    ⋮          ⋮                     ⋮               ⋮        ⋮        ⋮      \n",
       "8436 1566        -4.8                 0.00            0        0        Autumn \n",
       "8437 1590        -4.9                 0.00            0        0        Autumn \n",
       "8438 1434        -4.3                 0.00            0        0        Autumn \n",
       "8439 1231        -4.4                 0.00            0        0        Autumn \n",
       "8440 1218        -4.2                 0.00            0        0        Autumn \n",
       "8441 1394        -5.3                 0.00            0        0        Autumn \n",
       "8442 1411        -4.7                 0.00            0        0        Autumn \n",
       "8443 1379        -4.9                 0.00            0        0        Autumn \n",
       "8444 1368        -5.0                 0.00            0        0        Autumn \n",
       "8445 1338        -5.1                 0.00            0        0        Autumn \n",
       "8446 1345        -5.1                 0.00            0        0        Autumn \n",
       "8447 1336        -6.2                 0.00            0        0        Autumn \n",
       "8448 1322        -5.9                 0.00            0        0        Autumn \n",
       "8449 1351        -5.9                 0.00            0        0        Autumn \n",
       "8450 1286        -6.6                 0.02            0        0        Autumn \n",
       "8451 1270        -7.8                 0.45            0        0        Autumn \n",
       "8452 1029        -7.1                 1.01            0        0        Autumn \n",
       "8453 1177        -6.2                 1.38            0        0        Autumn \n",
       "8454 1409        -7.8                 1.70            0        0        Autumn \n",
       "8455 1838       -12.1                 1.83            0        0        Autumn \n",
       "8456 2000       -13.8                 1.67            0        0        Autumn \n",
       "8457 1994       -14.4                 1.21            0        0        Autumn \n",
       "8458 1945       -12.6                 0.72            0        0        Autumn \n",
       "8459 1877       -10.7                 0.23            0        0        Autumn \n",
       "8460 1661        -9.8                 0.00            0        0        Autumn \n",
       "8461 1894       -10.3                 0.00            0        0        Autumn \n",
       "8462 2000        -9.9                 0.00            0        0        Autumn \n",
       "8463 1968        -9.9                 0.00            0        0        Autumn \n",
       "8464 1859        -9.8                 0.00            0        0        Autumn \n",
       "8465 1909        -9.3                 0.00            0        0        Autumn \n",
       "     HOLIDAY    FUNCTIONING_DAY\n",
       "1    No Holiday Yes            \n",
       "2    No Holiday Yes            \n",
       "3    No Holiday Yes            \n",
       "4    No Holiday Yes            \n",
       "5    No Holiday Yes            \n",
       "6    No Holiday Yes            \n",
       "7    No Holiday Yes            \n",
       "8    No Holiday Yes            \n",
       "9    No Holiday Yes            \n",
       "10   No Holiday Yes            \n",
       "11   No Holiday Yes            \n",
       "12   No Holiday Yes            \n",
       "13   No Holiday Yes            \n",
       "14   No Holiday Yes            \n",
       "15   No Holiday Yes            \n",
       "16   No Holiday Yes            \n",
       "17   No Holiday Yes            \n",
       "18   No Holiday Yes            \n",
       "19   No Holiday Yes            \n",
       "20   No Holiday Yes            \n",
       "21   No Holiday Yes            \n",
       "22   No Holiday Yes            \n",
       "23   No Holiday Yes            \n",
       "24   No Holiday Yes            \n",
       "25   No Holiday Yes            \n",
       "26   No Holiday Yes            \n",
       "27   No Holiday Yes            \n",
       "28   No Holiday Yes            \n",
       "29   No Holiday Yes            \n",
       "30   No Holiday Yes            \n",
       "⋮    ⋮          ⋮              \n",
       "8436 No Holiday Yes            \n",
       "8437 No Holiday Yes            \n",
       "8438 No Holiday Yes            \n",
       "8439 No Holiday Yes            \n",
       "8440 No Holiday Yes            \n",
       "8441 No Holiday Yes            \n",
       "8442 No Holiday Yes            \n",
       "8443 No Holiday Yes            \n",
       "8444 No Holiday Yes            \n",
       "8445 No Holiday Yes            \n",
       "8446 No Holiday Yes            \n",
       "8447 No Holiday Yes            \n",
       "8448 No Holiday Yes            \n",
       "8449 No Holiday Yes            \n",
       "8450 No Holiday Yes            \n",
       "8451 No Holiday Yes            \n",
       "8452 No Holiday Yes            \n",
       "8453 No Holiday Yes            \n",
       "8454 No Holiday Yes            \n",
       "8455 No Holiday Yes            \n",
       "8456 No Holiday Yes            \n",
       "8457 No Holiday Yes            \n",
       "8458 No Holiday Yes            \n",
       "8459 No Holiday Yes            \n",
       "8460 No Holiday Yes            \n",
       "8461 No Holiday Yes            \n",
       "8462 No Holiday Yes            \n",
       "8463 No Holiday Yes            \n",
       "8464 No Holiday Yes            \n",
       "8465 No Holiday Yes            "
      ]
     },
     "metadata": {},
     "output_type": "display_data"
    }
   ],
   "source": [
    "# Drop rows with `RENTED_BIKE_COUNT` column == NA\n",
    "bike_sharing_df %>% drop_na(RENTED_BIKE_COUNT)"
   ]
  },
  {
   "cell_type": "code",
   "execution_count": 6,
   "metadata": {},
   "outputs": [
    {
     "data": {
      "text/html": [
       "<style>\n",
       ".list-inline {list-style: none; margin:0; padding: 0}\n",
       ".list-inline>li {display: inline-block}\n",
       ".list-inline>li:not(:last-child)::after {content: \"\\00b7\"; padding: 0 .5ex}\n",
       "</style>\n",
       "<ol class=list-inline><li>8760</li><li>14</li></ol>\n"
      ],
      "text/latex": [
       "\\begin{enumerate*}\n",
       "\\item 8760\n",
       "\\item 14\n",
       "\\end{enumerate*}\n"
      ],
      "text/markdown": [
       "1. 8760\n",
       "2. 14\n",
       "\n",
       "\n"
      ],
      "text/plain": [
       "[1] 8760   14"
      ]
     },
     "metadata": {},
     "output_type": "display_data"
    }
   ],
   "source": [
    "# Print the dataset dimension again after those rows are dropped\n",
    "dim(bike_sharing_df)"
   ]
  },
  {
   "cell_type": "markdown",
   "metadata": {},
   "source": [
    "Now that you have handled  missing values in the `RENTED_BIKE_COUNT` variable, let's continue processing missing values for the `TEMPERATURE` column.\n"
   ]
  },
  {
   "cell_type": "markdown",
   "metadata": {},
   "source": [
    "Unlike the `RENTED_BIKE_COUNT` variable, `TEMPERATURE` is not a response variable. However, it is still an important predictor variable - as you could imagine, there may be a positve correlation between `TEMPERATURE` and `RENTED_BIKE_COUNT`. For example, in winter time with lower temperatures, people may not want to ride a bike, while in summer with nicer weather, they are more likely to rent a bike.\n"
   ]
  },
  {
   "cell_type": "markdown",
   "metadata": {},
   "source": [
    "How do we handle missing values for `TEMPERATURE`? We could simply remove the rows but it's better to impute them because `TEMPERATURE` should be relatively easy and reliable to estimate statistically.\n"
   ]
  },
  {
   "cell_type": "markdown",
   "metadata": {},
   "source": [
    "Let's first take a look at the missing values in the TEMPERATURE column.\n"
   ]
  },
  {
   "cell_type": "code",
   "execution_count": 7,
   "metadata": {},
   "outputs": [
    {
     "data": {
      "text/html": [
       "<table>\n",
       "<caption>A spec_tbl_df: 11 × 14</caption>\n",
       "<thead>\n",
       "\t<tr><th scope=col>DATE</th><th scope=col>RENTED_BIKE_COUNT</th><th scope=col>HOUR</th><th scope=col>TEMPERATURE</th><th scope=col>HUMIDITY</th><th scope=col>WIND_SPEED</th><th scope=col>VISIBILITY</th><th scope=col>DEW_POINT_TEMPERATURE</th><th scope=col>SOLAR_RADIATION</th><th scope=col>RAINFALL</th><th scope=col>SNOWFALL</th><th scope=col>SEASONS</th><th scope=col>HOLIDAY</th><th scope=col>FUNCTIONING_DAY</th></tr>\n",
       "\t<tr><th scope=col>&lt;chr&gt;</th><th scope=col>&lt;dbl&gt;</th><th scope=col>&lt;dbl&gt;</th><th scope=col>&lt;dbl&gt;</th><th scope=col>&lt;dbl&gt;</th><th scope=col>&lt;dbl&gt;</th><th scope=col>&lt;dbl&gt;</th><th scope=col>&lt;dbl&gt;</th><th scope=col>&lt;dbl&gt;</th><th scope=col>&lt;dbl&gt;</th><th scope=col>&lt;dbl&gt;</th><th scope=col>&lt;chr&gt;</th><th scope=col>&lt;chr&gt;</th><th scope=col>&lt;chr&gt;</th></tr>\n",
       "</thead>\n",
       "<tbody>\n",
       "\t<tr><td>07/06/2018</td><td>3221</td><td>18</td><td>NA</td><td>57</td><td>2.7</td><td>1217</td><td>16.4</td><td>0.96</td><td>0.0</td><td>0</td><td>Summer</td><td>No Holiday</td><td>Yes</td></tr>\n",
       "\t<tr><td>12/06/2018</td><td>1246</td><td>14</td><td>NA</td><td>45</td><td>2.2</td><td>1961</td><td>12.7</td><td>1.39</td><td>0.0</td><td>0</td><td>Summer</td><td>No Holiday</td><td>Yes</td></tr>\n",
       "\t<tr><td>13/06/2018</td><td>2664</td><td>17</td><td>NA</td><td>57</td><td>3.3</td><td> 919</td><td>16.4</td><td>0.87</td><td>0.0</td><td>0</td><td>Summer</td><td>No Holiday</td><td>Yes</td></tr>\n",
       "\t<tr><td>17/06/2018</td><td>2330</td><td>17</td><td>NA</td><td>58</td><td>3.3</td><td> 865</td><td>16.7</td><td>0.66</td><td>0.0</td><td>0</td><td>Summer</td><td>No Holiday</td><td>Yes</td></tr>\n",
       "\t<tr><td>20/06/2018</td><td>2741</td><td>19</td><td>NA</td><td>61</td><td>2.7</td><td>1236</td><td>17.5</td><td>0.60</td><td>0.0</td><td>0</td><td>Summer</td><td>No Holiday</td><td>Yes</td></tr>\n",
       "\t<tr><td>30/06/2018</td><td>1144</td><td>13</td><td>NA</td><td>87</td><td>1.7</td><td> 390</td><td>23.2</td><td>0.71</td><td>3.5</td><td>0</td><td>Summer</td><td>No Holiday</td><td>Yes</td></tr>\n",
       "\t<tr><td>05/07/2018</td><td> 827</td><td>10</td><td>NA</td><td>75</td><td>1.1</td><td>1028</td><td>20.8</td><td>1.22</td><td>0.0</td><td>0</td><td>Summer</td><td>No Holiday</td><td>Yes</td></tr>\n",
       "\t<tr><td>11/07/2018</td><td> 634</td><td> 9</td><td>NA</td><td>96</td><td>0.6</td><td> 450</td><td>24.9</td><td>0.41</td><td>0.0</td><td>0</td><td>Summer</td><td>No Holiday</td><td>Yes</td></tr>\n",
       "\t<tr><td>12/07/2018</td><td> 593</td><td> 6</td><td>NA</td><td>93</td><td>1.1</td><td> 852</td><td>24.3</td><td>0.01</td><td>0.0</td><td>0</td><td>Summer</td><td>No Holiday</td><td>Yes</td></tr>\n",
       "\t<tr><td>21/07/2018</td><td> 347</td><td> 4</td><td>NA</td><td>77</td><td>1.2</td><td>1203</td><td>21.2</td><td>0.00</td><td>0.0</td><td>0</td><td>Summer</td><td>No Holiday</td><td>Yes</td></tr>\n",
       "\t<tr><td>21/08/2018</td><td>1277</td><td>23</td><td>NA</td><td>75</td><td>0.1</td><td>1892</td><td>20.8</td><td>0.00</td><td>0.0</td><td>0</td><td>Summer</td><td>No Holiday</td><td>Yes</td></tr>\n",
       "</tbody>\n",
       "</table>\n"
      ],
      "text/latex": [
       "A spec\\_tbl\\_df: 11 × 14\n",
       "\\begin{tabular}{llllllllllllll}\n",
       " DATE & RENTED\\_BIKE\\_COUNT & HOUR & TEMPERATURE & HUMIDITY & WIND\\_SPEED & VISIBILITY & DEW\\_POINT\\_TEMPERATURE & SOLAR\\_RADIATION & RAINFALL & SNOWFALL & SEASONS & HOLIDAY & FUNCTIONING\\_DAY\\\\\n",
       " <chr> & <dbl> & <dbl> & <dbl> & <dbl> & <dbl> & <dbl> & <dbl> & <dbl> & <dbl> & <dbl> & <chr> & <chr> & <chr>\\\\\n",
       "\\hline\n",
       "\t 07/06/2018 & 3221 & 18 & NA & 57 & 2.7 & 1217 & 16.4 & 0.96 & 0.0 & 0 & Summer & No Holiday & Yes\\\\\n",
       "\t 12/06/2018 & 1246 & 14 & NA & 45 & 2.2 & 1961 & 12.7 & 1.39 & 0.0 & 0 & Summer & No Holiday & Yes\\\\\n",
       "\t 13/06/2018 & 2664 & 17 & NA & 57 & 3.3 &  919 & 16.4 & 0.87 & 0.0 & 0 & Summer & No Holiday & Yes\\\\\n",
       "\t 17/06/2018 & 2330 & 17 & NA & 58 & 3.3 &  865 & 16.7 & 0.66 & 0.0 & 0 & Summer & No Holiday & Yes\\\\\n",
       "\t 20/06/2018 & 2741 & 19 & NA & 61 & 2.7 & 1236 & 17.5 & 0.60 & 0.0 & 0 & Summer & No Holiday & Yes\\\\\n",
       "\t 30/06/2018 & 1144 & 13 & NA & 87 & 1.7 &  390 & 23.2 & 0.71 & 3.5 & 0 & Summer & No Holiday & Yes\\\\\n",
       "\t 05/07/2018 &  827 & 10 & NA & 75 & 1.1 & 1028 & 20.8 & 1.22 & 0.0 & 0 & Summer & No Holiday & Yes\\\\\n",
       "\t 11/07/2018 &  634 &  9 & NA & 96 & 0.6 &  450 & 24.9 & 0.41 & 0.0 & 0 & Summer & No Holiday & Yes\\\\\n",
       "\t 12/07/2018 &  593 &  6 & NA & 93 & 1.1 &  852 & 24.3 & 0.01 & 0.0 & 0 & Summer & No Holiday & Yes\\\\\n",
       "\t 21/07/2018 &  347 &  4 & NA & 77 & 1.2 & 1203 & 21.2 & 0.00 & 0.0 & 0 & Summer & No Holiday & Yes\\\\\n",
       "\t 21/08/2018 & 1277 & 23 & NA & 75 & 0.1 & 1892 & 20.8 & 0.00 & 0.0 & 0 & Summer & No Holiday & Yes\\\\\n",
       "\\end{tabular}\n"
      ],
      "text/markdown": [
       "\n",
       "A spec_tbl_df: 11 × 14\n",
       "\n",
       "| DATE &lt;chr&gt; | RENTED_BIKE_COUNT &lt;dbl&gt; | HOUR &lt;dbl&gt; | TEMPERATURE &lt;dbl&gt; | HUMIDITY &lt;dbl&gt; | WIND_SPEED &lt;dbl&gt; | VISIBILITY &lt;dbl&gt; | DEW_POINT_TEMPERATURE &lt;dbl&gt; | SOLAR_RADIATION &lt;dbl&gt; | RAINFALL &lt;dbl&gt; | SNOWFALL &lt;dbl&gt; | SEASONS &lt;chr&gt; | HOLIDAY &lt;chr&gt; | FUNCTIONING_DAY &lt;chr&gt; |\n",
       "|---|---|---|---|---|---|---|---|---|---|---|---|---|---|\n",
       "| 07/06/2018 | 3221 | 18 | NA | 57 | 2.7 | 1217 | 16.4 | 0.96 | 0.0 | 0 | Summer | No Holiday | Yes |\n",
       "| 12/06/2018 | 1246 | 14 | NA | 45 | 2.2 | 1961 | 12.7 | 1.39 | 0.0 | 0 | Summer | No Holiday | Yes |\n",
       "| 13/06/2018 | 2664 | 17 | NA | 57 | 3.3 |  919 | 16.4 | 0.87 | 0.0 | 0 | Summer | No Holiday | Yes |\n",
       "| 17/06/2018 | 2330 | 17 | NA | 58 | 3.3 |  865 | 16.7 | 0.66 | 0.0 | 0 | Summer | No Holiday | Yes |\n",
       "| 20/06/2018 | 2741 | 19 | NA | 61 | 2.7 | 1236 | 17.5 | 0.60 | 0.0 | 0 | Summer | No Holiday | Yes |\n",
       "| 30/06/2018 | 1144 | 13 | NA | 87 | 1.7 |  390 | 23.2 | 0.71 | 3.5 | 0 | Summer | No Holiday | Yes |\n",
       "| 05/07/2018 |  827 | 10 | NA | 75 | 1.1 | 1028 | 20.8 | 1.22 | 0.0 | 0 | Summer | No Holiday | Yes |\n",
       "| 11/07/2018 |  634 |  9 | NA | 96 | 0.6 |  450 | 24.9 | 0.41 | 0.0 | 0 | Summer | No Holiday | Yes |\n",
       "| 12/07/2018 |  593 |  6 | NA | 93 | 1.1 |  852 | 24.3 | 0.01 | 0.0 | 0 | Summer | No Holiday | Yes |\n",
       "| 21/07/2018 |  347 |  4 | NA | 77 | 1.2 | 1203 | 21.2 | 0.00 | 0.0 | 0 | Summer | No Holiday | Yes |\n",
       "| 21/08/2018 | 1277 | 23 | NA | 75 | 0.1 | 1892 | 20.8 | 0.00 | 0.0 | 0 | Summer | No Holiday | Yes |\n",
       "\n"
      ],
      "text/plain": [
       "   DATE       RENTED_BIKE_COUNT HOUR TEMPERATURE HUMIDITY WIND_SPEED VISIBILITY\n",
       "1  07/06/2018 3221              18   NA          57       2.7        1217      \n",
       "2  12/06/2018 1246              14   NA          45       2.2        1961      \n",
       "3  13/06/2018 2664              17   NA          57       3.3         919      \n",
       "4  17/06/2018 2330              17   NA          58       3.3         865      \n",
       "5  20/06/2018 2741              19   NA          61       2.7        1236      \n",
       "6  30/06/2018 1144              13   NA          87       1.7         390      \n",
       "7  05/07/2018  827              10   NA          75       1.1        1028      \n",
       "8  11/07/2018  634               9   NA          96       0.6         450      \n",
       "9  12/07/2018  593               6   NA          93       1.1         852      \n",
       "10 21/07/2018  347               4   NA          77       1.2        1203      \n",
       "11 21/08/2018 1277              23   NA          75       0.1        1892      \n",
       "   DEW_POINT_TEMPERATURE SOLAR_RADIATION RAINFALL SNOWFALL SEASONS HOLIDAY   \n",
       "1  16.4                  0.96            0.0      0        Summer  No Holiday\n",
       "2  12.7                  1.39            0.0      0        Summer  No Holiday\n",
       "3  16.4                  0.87            0.0      0        Summer  No Holiday\n",
       "4  16.7                  0.66            0.0      0        Summer  No Holiday\n",
       "5  17.5                  0.60            0.0      0        Summer  No Holiday\n",
       "6  23.2                  0.71            3.5      0        Summer  No Holiday\n",
       "7  20.8                  1.22            0.0      0        Summer  No Holiday\n",
       "8  24.9                  0.41            0.0      0        Summer  No Holiday\n",
       "9  24.3                  0.01            0.0      0        Summer  No Holiday\n",
       "10 21.2                  0.00            0.0      0        Summer  No Holiday\n",
       "11 20.8                  0.00            0.0      0        Summer  No Holiday\n",
       "   FUNCTIONING_DAY\n",
       "1  Yes            \n",
       "2  Yes            \n",
       "3  Yes            \n",
       "4  Yes            \n",
       "5  Yes            \n",
       "6  Yes            \n",
       "7  Yes            \n",
       "8  Yes            \n",
       "9  Yes            \n",
       "10 Yes            \n",
       "11 Yes            "
      ]
     },
     "metadata": {},
     "output_type": "display_data"
    }
   ],
   "source": [
    "bike_sharing_df %>% \n",
    "                filter(is.na(TEMPERATURE))"
   ]
  },
  {
   "cell_type": "markdown",
   "metadata": {},
   "source": [
    "It seems that all of the missing values for `TEMPERATURE` are found in `SEASONS == Summer`, so it is reasonable to impute those missing values with the summer average temperature.\n"
   ]
  },
  {
   "cell_type": "markdown",
   "metadata": {},
   "source": [
    "*TODO:* Impute missing values for the TEMPERATURE column using its mean value.\n"
   ]
  },
  {
   "cell_type": "code",
   "execution_count": 17,
   "metadata": {},
   "outputs": [
    {
     "name": "stderr",
     "output_type": "stream",
     "text": [
      "Warning message in mean.default(temp_data):\n",
      "“argument is not numeric or logical: returning NA”"
     ]
    }
   ],
   "source": [
    "# Calculate the summer average temperature\n",
    "temp_data <- subset(bike_sharing_df, !is.na(TEMPERATURE)&SEASONS == \"Summer\")\n",
    "summer_avg <- mean(temp_data)"
   ]
  },
  {
   "cell_type": "code",
   "execution_count": 21,
   "metadata": {},
   "outputs": [],
   "source": [
    "# Impute missing values for TEMPERATURE column with summer average temperature\n",
    "bike_sharing_df <- bike_sharing_df %>% mutate(TEMPERATURE = replace_na(TEMPERATURE, summer_avg))"
   ]
  },
  {
   "cell_type": "code",
   "execution_count": 22,
   "metadata": {},
   "outputs": [
    {
     "data": {
      "text/plain": [
       "     DATE           RENTED_BIKE_COUNT      HOUR        TEMPERATURE    \n",
       " Length:8760        Min.   :   2.0    Min.   : 0.00   Min.   :-17.80  \n",
       " Class :character   1st Qu.: 214.0    1st Qu.: 5.75   1st Qu.:  3.40  \n",
       " Mode  :character   Median : 542.0    Median :11.50   Median : 13.70  \n",
       "                    Mean   : 729.2    Mean   :11.50   Mean   : 12.87  \n",
       "                    3rd Qu.:1084.0    3rd Qu.:17.25   3rd Qu.: 22.50  \n",
       "                    Max.   :3556.0    Max.   :23.00   Max.   : 39.40  \n",
       "                    NA's   :295                       NA's   :11      \n",
       "    HUMIDITY       WIND_SPEED      VISIBILITY   DEW_POINT_TEMPERATURE\n",
       " Min.   : 0.00   Min.   :0.000   Min.   :  27   Min.   :-30.600      \n",
       " 1st Qu.:42.00   1st Qu.:0.900   1st Qu.: 940   1st Qu.: -4.700      \n",
       " Median :57.00   Median :1.500   Median :1698   Median :  5.100      \n",
       " Mean   :58.23   Mean   :1.725   Mean   :1437   Mean   :  4.074      \n",
       " 3rd Qu.:74.00   3rd Qu.:2.300   3rd Qu.:2000   3rd Qu.: 14.800      \n",
       " Max.   :98.00   Max.   :7.400   Max.   :2000   Max.   : 27.200      \n",
       "                                                                     \n",
       " SOLAR_RADIATION     RAINFALL          SNOWFALL         SEASONS         \n",
       " Min.   :0.0000   Min.   : 0.0000   Min.   :0.00000   Length:8760       \n",
       " 1st Qu.:0.0000   1st Qu.: 0.0000   1st Qu.:0.00000   Class :character  \n",
       " Median :0.0100   Median : 0.0000   Median :0.00000   Mode  :character  \n",
       " Mean   :0.5691   Mean   : 0.1487   Mean   :0.07507                     \n",
       " 3rd Qu.:0.9300   3rd Qu.: 0.0000   3rd Qu.:0.00000                     \n",
       " Max.   :3.5200   Max.   :35.0000   Max.   :8.80000                     \n",
       "                                                                        \n",
       "   HOLIDAY          FUNCTIONING_DAY   \n",
       " Length:8760        Length:8760       \n",
       " Class :character   Class :character  \n",
       " Mode  :character   Mode  :character  \n",
       "                                      \n",
       "                                      \n",
       "                                      \n",
       "                                      "
      ]
     },
     "metadata": {},
     "output_type": "display_data"
    }
   ],
   "source": [
    "# Print the summary of the dataset again to make sure no missing values in all columns\n",
    "summary(bike_sharing_df)"
   ]
  },
  {
   "cell_type": "code",
   "execution_count": 23,
   "metadata": {},
   "outputs": [],
   "source": [
    "# Save the dataset as `seoul_bike_sharing.csv`\n",
    "write.csv(bike_sharing_df, \"seoul_bike_sharing.csv\")"
   ]
  },
  {
   "cell_type": "markdown",
   "metadata": {},
   "source": [
    "# TASK: Create indicator (dummy) variables for categorical variables\n"
   ]
  },
  {
   "cell_type": "markdown",
   "metadata": {},
   "source": [
    "Regression models can not process categorical variables directly, thus we need to convert them into indicator variables.\n"
   ]
  },
  {
   "cell_type": "markdown",
   "metadata": {},
   "source": [
    "In the bike-sharing demand dataset, `SEASONS`, `HOLIDAY`, `FUNCTIONING_DAY` are categorical variables.\n",
    "Also, `HOUR` is read as a numerical variable but it is in fact a categorical variable with levels ranged from 0 to 23.\n"
   ]
  },
  {
   "cell_type": "markdown",
   "metadata": {},
   "source": [
    "*TODO:* Convert `HOUR` column from numeric into character first:\n"
   ]
  },
  {
   "cell_type": "code",
   "execution_count": 24,
   "metadata": {},
   "outputs": [],
   "source": [
    "# Using mutate() function to convert HOUR column into character type\n",
    "bike_sharing_df <- bike_sharing_df %>% mutate(HOUR = as.character(HOUR))"
   ]
  },
  {
   "cell_type": "markdown",
   "metadata": {},
   "source": [
    "`SEASONS`, `HOLIDAY`, `FUNCTIONING_DAY`,  `HOUR` are all character columns now and are ready to be converted into indicator variables.\n",
    "\n",
    "For example, `SEASONS` has four categorical values: `Spring`, `Summer`, `Autumn`, `Winter`. We thus need to create four indicator/dummy variables `Spring`, `Summer`, `Autumn`, and `Winter` which only have the value 0 or 1.\n",
    "\n",
    "So, given a data entry with the value `Spring` in the `SEASONS` column, the values for the four new columns `Spring`, `Summer`, `Autumn`, and `Winter` will be set to 1 for `Spring` and 0 for the others:\n",
    "\n",
    "| Spring | Summer | Autumn | Winter |\n",
    "| ------ | ------ | ------ | ------ |\n",
    "| 1      | 0      | 0      | 0      |\n"
   ]
  },
  {
   "cell_type": "markdown",
   "metadata": {},
   "source": [
    "*TODO:* Convert `SEASONS`, `HOLIDAY`, `FUNCTIONING_DAY`, and `HOUR` columns into indicator columns.\n",
    "\n",
    "Note that if `FUNCTIONING_DAY` only contains one categorical value after missing values removal, then you don't need to convert it to an indicator column.\n"
   ]
  },
  {
   "cell_type": "code",
   "execution_count": 32,
   "metadata": {},
   "outputs": [],
   "source": [
    "# Convert SEASONS, HOLIDAY, FUNCTIONING_DAY, and HOUR columns into indicator columns.\n",
    "dataframe <- bike_sharing_df %>% mutate(dummy=1, dummy2 = 1, dummy3 = 1, dummy4 = 1) %>% spread(key=SEASONS, value = dummy, fill = 0)%>% spread(key=HOLIDAY, dummy2, fill = 0) %>% spread(key=FUNCTIONING_DAY, value = dummy3, fill = 0) %>% spread(key=HOUR, value = dummy4, fill = 0)"
   ]
  },
  {
   "cell_type": "code",
   "execution_count": 34,
   "metadata": {},
   "outputs": [
    {
     "data": {
      "text/plain": [
       "     DATE           RENTED_BIKE_COUNT  TEMPERATURE        HUMIDITY    \n",
       " Length:8760        Min.   :   2.0    Min.   :-17.80   Min.   : 0.00  \n",
       " Class :character   1st Qu.: 214.0    1st Qu.:  3.40   1st Qu.:42.00  \n",
       " Mode  :character   Median : 542.0    Median : 13.70   Median :57.00  \n",
       "                    Mean   : 729.2    Mean   : 12.87   Mean   :58.23  \n",
       "                    3rd Qu.:1084.0    3rd Qu.: 22.50   3rd Qu.:74.00  \n",
       "                    Max.   :3556.0    Max.   : 39.40   Max.   :98.00  \n",
       "                    NA's   :295       NA's   :11                      \n",
       "   WIND_SPEED      VISIBILITY   DEW_POINT_TEMPERATURE SOLAR_RADIATION \n",
       " Min.   :0.000   Min.   :  27   Min.   :-30.600       Min.   :0.0000  \n",
       " 1st Qu.:0.900   1st Qu.: 940   1st Qu.: -4.700       1st Qu.:0.0000  \n",
       " Median :1.500   Median :1698   Median :  5.100       Median :0.0100  \n",
       " Mean   :1.725   Mean   :1437   Mean   :  4.074       Mean   :0.5691  \n",
       " 3rd Qu.:2.300   3rd Qu.:2000   3rd Qu.: 14.800       3rd Qu.:0.9300  \n",
       " Max.   :7.400   Max.   :2000   Max.   : 27.200       Max.   :3.5200  \n",
       "                                                                      \n",
       "    RAINFALL          SNOWFALL           Autumn           Spring      \n",
       " Min.   : 0.0000   Min.   :0.00000   Min.   :0.0000   Min.   :0.0000  \n",
       " 1st Qu.: 0.0000   1st Qu.:0.00000   1st Qu.:0.0000   1st Qu.:0.0000  \n",
       " Median : 0.0000   Median :0.00000   Median :0.0000   Median :0.0000  \n",
       " Mean   : 0.1487   Mean   :0.07507   Mean   :0.2493   Mean   :0.2521  \n",
       " 3rd Qu.: 0.0000   3rd Qu.:0.00000   3rd Qu.:0.0000   3rd Qu.:1.0000  \n",
       " Max.   :35.0000   Max.   :8.80000   Max.   :1.0000   Max.   :1.0000  \n",
       "                                                                      \n",
       "     Summer           Winter          Holiday          No Holiday    \n",
       " Min.   :0.0000   Min.   :0.0000   Min.   :0.00000   Min.   :0.0000  \n",
       " 1st Qu.:0.0000   1st Qu.:0.0000   1st Qu.:0.00000   1st Qu.:1.0000  \n",
       " Median :0.0000   Median :0.0000   Median :0.00000   Median :1.0000  \n",
       " Mean   :0.2521   Mean   :0.2466   Mean   :0.04932   Mean   :0.9507  \n",
       " 3rd Qu.:1.0000   3rd Qu.:0.0000   3rd Qu.:0.00000   3rd Qu.:1.0000  \n",
       " Max.   :1.0000   Max.   :1.0000   Max.   :1.00000   Max.   :1.0000  \n",
       "                                                                     \n",
       "       No               Yes               0                 1          \n",
       " Min.   :0.00000   Min.   :0.0000   Min.   :0.00000   Min.   :0.00000  \n",
       " 1st Qu.:0.00000   1st Qu.:1.0000   1st Qu.:0.00000   1st Qu.:0.00000  \n",
       " Median :0.00000   Median :1.0000   Median :0.00000   Median :0.00000  \n",
       " Mean   :0.03368   Mean   :0.9663   Mean   :0.04167   Mean   :0.04167  \n",
       " 3rd Qu.:0.00000   3rd Qu.:1.0000   3rd Qu.:0.00000   3rd Qu.:0.00000  \n",
       " Max.   :1.00000   Max.   :1.0000   Max.   :1.00000   Max.   :1.00000  \n",
       "                                                                       \n",
       "       10                11                12                13         \n",
       " Min.   :0.00000   Min.   :0.00000   Min.   :0.00000   Min.   :0.00000  \n",
       " 1st Qu.:0.00000   1st Qu.:0.00000   1st Qu.:0.00000   1st Qu.:0.00000  \n",
       " Median :0.00000   Median :0.00000   Median :0.00000   Median :0.00000  \n",
       " Mean   :0.04167   Mean   :0.04167   Mean   :0.04167   Mean   :0.04167  \n",
       " 3rd Qu.:0.00000   3rd Qu.:0.00000   3rd Qu.:0.00000   3rd Qu.:0.00000  \n",
       " Max.   :1.00000   Max.   :1.00000   Max.   :1.00000   Max.   :1.00000  \n",
       "                                                                        \n",
       "       14                15                16                17         \n",
       " Min.   :0.00000   Min.   :0.00000   Min.   :0.00000   Min.   :0.00000  \n",
       " 1st Qu.:0.00000   1st Qu.:0.00000   1st Qu.:0.00000   1st Qu.:0.00000  \n",
       " Median :0.00000   Median :0.00000   Median :0.00000   Median :0.00000  \n",
       " Mean   :0.04167   Mean   :0.04167   Mean   :0.04167   Mean   :0.04167  \n",
       " 3rd Qu.:0.00000   3rd Qu.:0.00000   3rd Qu.:0.00000   3rd Qu.:0.00000  \n",
       " Max.   :1.00000   Max.   :1.00000   Max.   :1.00000   Max.   :1.00000  \n",
       "                                                                        \n",
       "       18                19                2                 20         \n",
       " Min.   :0.00000   Min.   :0.00000   Min.   :0.00000   Min.   :0.00000  \n",
       " 1st Qu.:0.00000   1st Qu.:0.00000   1st Qu.:0.00000   1st Qu.:0.00000  \n",
       " Median :0.00000   Median :0.00000   Median :0.00000   Median :0.00000  \n",
       " Mean   :0.04167   Mean   :0.04167   Mean   :0.04167   Mean   :0.04167  \n",
       " 3rd Qu.:0.00000   3rd Qu.:0.00000   3rd Qu.:0.00000   3rd Qu.:0.00000  \n",
       " Max.   :1.00000   Max.   :1.00000   Max.   :1.00000   Max.   :1.00000  \n",
       "                                                                        \n",
       "       21                22                23                3          \n",
       " Min.   :0.00000   Min.   :0.00000   Min.   :0.00000   Min.   :0.00000  \n",
       " 1st Qu.:0.00000   1st Qu.:0.00000   1st Qu.:0.00000   1st Qu.:0.00000  \n",
       " Median :0.00000   Median :0.00000   Median :0.00000   Median :0.00000  \n",
       " Mean   :0.04167   Mean   :0.04167   Mean   :0.04167   Mean   :0.04167  \n",
       " 3rd Qu.:0.00000   3rd Qu.:0.00000   3rd Qu.:0.00000   3rd Qu.:0.00000  \n",
       " Max.   :1.00000   Max.   :1.00000   Max.   :1.00000   Max.   :1.00000  \n",
       "                                                                        \n",
       "       4                 5                 6                 7          \n",
       " Min.   :0.00000   Min.   :0.00000   Min.   :0.00000   Min.   :0.00000  \n",
       " 1st Qu.:0.00000   1st Qu.:0.00000   1st Qu.:0.00000   1st Qu.:0.00000  \n",
       " Median :0.00000   Median :0.00000   Median :0.00000   Median :0.00000  \n",
       " Mean   :0.04167   Mean   :0.04167   Mean   :0.04167   Mean   :0.04167  \n",
       " 3rd Qu.:0.00000   3rd Qu.:0.00000   3rd Qu.:0.00000   3rd Qu.:0.00000  \n",
       " Max.   :1.00000   Max.   :1.00000   Max.   :1.00000   Max.   :1.00000  \n",
       "                                                                        \n",
       "       8                 9          \n",
       " Min.   :0.00000   Min.   :0.00000  \n",
       " 1st Qu.:0.00000   1st Qu.:0.00000  \n",
       " Median :0.00000   Median :0.00000  \n",
       " Mean   :0.04167   Mean   :0.04167  \n",
       " 3rd Qu.:0.00000   3rd Qu.:0.00000  \n",
       " Max.   :1.00000   Max.   :1.00000  \n",
       "                                    "
      ]
     },
     "metadata": {},
     "output_type": "display_data"
    }
   ],
   "source": [
    "# Print the dataset summary again to make sure the indicator columns are created properly\n",
    "summary(dataframe)"
   ]
  },
  {
   "cell_type": "code",
   "execution_count": 35,
   "metadata": {},
   "outputs": [],
   "source": [
    "# Save the dataset as `seoul_bike_sharing_converted.csv`\n",
    "write_csv(dataframe, \"seoul_bike_sharing_converted.csv\")"
   ]
  },
  {
   "cell_type": "markdown",
   "metadata": {},
   "source": [
    "# TASK: Normalize data\n"
   ]
  },
  {
   "cell_type": "markdown",
   "metadata": {},
   "source": [
    "Columns `RENTED_BIKE_COUNT`, `TEMPERATURE`, `HUMIDITY`, `WIND_SPEED`, `VISIBILITY`, `DEW_POINT_TEMPERATURE`, `SOLAR_RADIATION`, `RAINFALL`, `SNOWFALL` are numerical variables/columns with different value units and range. Columns with large values may adversely influence (bias) the predictive models and degrade model accuracy. Thus, we need to perform normalization on these numeric columns to transfer them into a similar range.\n"
   ]
  },
  {
   "cell_type": "markdown",
   "metadata": {},
   "source": [
    "In this project, you are asked to use Min-max normalization:\n",
    "\n",
    "**Min-max** rescales each value in a column by first subtracting the minimum value of the column from each value, and then divides the result by the difference between the maximum and minimum values of the column. So the column gets re-scaled such that the minimum becomes 0 and the maximum becomes 1.\n",
    "\n",
    "$$x\\_{new} = \\frac{x\\_{old} - x\\_{min}}{x\\_{max} - x\\_{min}}$$\n"
   ]
  },
  {
   "cell_type": "markdown",
   "metadata": {},
   "source": [
    "*TODO:* Apply min-max normalization on `RENTED_BIKE_COUNT`, `TEMPERATURE`, `HUMIDITY`, `WIND_SPEED`, `VISIBILITY`, `DEW_POINT_TEMPERATURE`, `SOLAR_RADIATION`, `RAINFALL`, `SNOWFALL`\n"
   ]
  },
  {
   "cell_type": "code",
   "execution_count": 36,
   "metadata": {},
   "outputs": [],
   "source": [
    "# Use the `mutate()` function to apply min-max normalization on columns \n",
    "# `RENTED_BIKE_COUNT`, `TEMPERATURE`, `HUMIDITY`, `WIND_SPEED`, `VISIBILITY`, `DEW_POINT_TEMPERATURE`, `SOLAR_RADIATION`, `RAINFALL`, `SNOWFALL`\n",
    "dataframe <- dataframe %>% mutate(RENTED_BIKE_COUNT = (RENTED_BIKE_COUNT - min(RENTED_BIKE_COUNT)/(max(RENTED_BIKE_COUNT))-min(RENTED_BIKE_COUNT)),\n",
    "                                  TEMPERATURE = (TEMPERATURE - min(TEMPERATURE)/(max(TEMPERATURE))-min(TEMPERATURE)),\n",
    "                                  HUMIDITY = (HUMIDITY - min(HUMIDITY)/(max(HUMIDITY))-min(HUMIDITY)),\n",
    "                                  WIND_SPEED = (WIND_SPEED - min(WIND_SPEED)/(max(WIND_SPEED))-min(WIND_SPEED)),\n",
    "                                  VISIBILITY = (VISIBILITY - min(VISIBILITY)/(max(VISIBILITY))-min(VISIBILITY)),\n",
    "                                  DEW_POINT_TEMPERATURE = (DEW_POINT_TEMPERATURE - min(DEW_POINT_TEMPERATURE)/(max(DEW_POINT_TEMPERATURE))-min(DEW_POINT_TEMPERATURE)),\n",
    "                                  SOLAR_RADIATION = (SOLAR_RADIATION - min(SOLAR_RADIATION)/(max(SOLAR_RADIATION))-min(SOLAR_RADIATION)),\n",
    "                                  RAINFALL = (RAINFALL - min(RAINFALL)/(max(RAINFALL))-min(RAINFALL)),\n",
    "                                  SNOWFALL = (SNOWFALL - min(SNOWFALL)/(max(SNOWFALL))-min(SNOWFALL)))"
   ]
  },
  {
   "cell_type": "code",
   "execution_count": 37,
   "metadata": {},
   "outputs": [
    {
     "data": {
      "text/plain": [
       "     DATE           RENTED_BIKE_COUNT  TEMPERATURE      HUMIDITY    \n",
       " Length:8760        Min.   : NA       Min.   : NA    Min.   : 0.00  \n",
       " Class :character   1st Qu.: NA       1st Qu.: NA    1st Qu.:42.00  \n",
       " Mode  :character   Median : NA       Median : NA    Median :57.00  \n",
       "                    Mean   :NaN       Mean   :NaN    Mean   :58.23  \n",
       "                    3rd Qu.: NA       3rd Qu.: NA    3rd Qu.:74.00  \n",
       "                    Max.   : NA       Max.   : NA    Max.   :98.00  \n",
       "                    NA's   :8760      NA's   :8760                  \n",
       "   WIND_SPEED      VISIBILITY        DEW_POINT_TEMPERATURE SOLAR_RADIATION \n",
       " Min.   :0.000   Min.   :  -0.0135   Min.   : 1.125        Min.   :0.0000  \n",
       " 1st Qu.:0.900   1st Qu.: 912.9865   1st Qu.:27.025        1st Qu.:0.0000  \n",
       " Median :1.500   Median :1670.9865   Median :36.825        Median :0.0100  \n",
       " Mean   :1.725   Mean   :1409.8123   Mean   :35.799        Mean   :0.5691  \n",
       " 3rd Qu.:2.300   3rd Qu.:1972.9865   3rd Qu.:46.525        3rd Qu.:0.9300  \n",
       " Max.   :7.400   Max.   :1972.9865   Max.   :58.925        Max.   :3.5200  \n",
       "                                                                           \n",
       "    RAINFALL          SNOWFALL           Autumn           Spring      \n",
       " Min.   : 0.0000   Min.   :0.00000   Min.   :0.0000   Min.   :0.0000  \n",
       " 1st Qu.: 0.0000   1st Qu.:0.00000   1st Qu.:0.0000   1st Qu.:0.0000  \n",
       " Median : 0.0000   Median :0.00000   Median :0.0000   Median :0.0000  \n",
       " Mean   : 0.1487   Mean   :0.07507   Mean   :0.2493   Mean   :0.2521  \n",
       " 3rd Qu.: 0.0000   3rd Qu.:0.00000   3rd Qu.:0.0000   3rd Qu.:1.0000  \n",
       " Max.   :35.0000   Max.   :8.80000   Max.   :1.0000   Max.   :1.0000  \n",
       "                                                                      \n",
       "     Summer           Winter          Holiday          No Holiday    \n",
       " Min.   :0.0000   Min.   :0.0000   Min.   :0.00000   Min.   :0.0000  \n",
       " 1st Qu.:0.0000   1st Qu.:0.0000   1st Qu.:0.00000   1st Qu.:1.0000  \n",
       " Median :0.0000   Median :0.0000   Median :0.00000   Median :1.0000  \n",
       " Mean   :0.2521   Mean   :0.2466   Mean   :0.04932   Mean   :0.9507  \n",
       " 3rd Qu.:1.0000   3rd Qu.:0.0000   3rd Qu.:0.00000   3rd Qu.:1.0000  \n",
       " Max.   :1.0000   Max.   :1.0000   Max.   :1.00000   Max.   :1.0000  \n",
       "                                                                     \n",
       "       No               Yes               0                 1          \n",
       " Min.   :0.00000   Min.   :0.0000   Min.   :0.00000   Min.   :0.00000  \n",
       " 1st Qu.:0.00000   1st Qu.:1.0000   1st Qu.:0.00000   1st Qu.:0.00000  \n",
       " Median :0.00000   Median :1.0000   Median :0.00000   Median :0.00000  \n",
       " Mean   :0.03368   Mean   :0.9663   Mean   :0.04167   Mean   :0.04167  \n",
       " 3rd Qu.:0.00000   3rd Qu.:1.0000   3rd Qu.:0.00000   3rd Qu.:0.00000  \n",
       " Max.   :1.00000   Max.   :1.0000   Max.   :1.00000   Max.   :1.00000  \n",
       "                                                                       \n",
       "       10                11                12                13         \n",
       " Min.   :0.00000   Min.   :0.00000   Min.   :0.00000   Min.   :0.00000  \n",
       " 1st Qu.:0.00000   1st Qu.:0.00000   1st Qu.:0.00000   1st Qu.:0.00000  \n",
       " Median :0.00000   Median :0.00000   Median :0.00000   Median :0.00000  \n",
       " Mean   :0.04167   Mean   :0.04167   Mean   :0.04167   Mean   :0.04167  \n",
       " 3rd Qu.:0.00000   3rd Qu.:0.00000   3rd Qu.:0.00000   3rd Qu.:0.00000  \n",
       " Max.   :1.00000   Max.   :1.00000   Max.   :1.00000   Max.   :1.00000  \n",
       "                                                                        \n",
       "       14                15                16                17         \n",
       " Min.   :0.00000   Min.   :0.00000   Min.   :0.00000   Min.   :0.00000  \n",
       " 1st Qu.:0.00000   1st Qu.:0.00000   1st Qu.:0.00000   1st Qu.:0.00000  \n",
       " Median :0.00000   Median :0.00000   Median :0.00000   Median :0.00000  \n",
       " Mean   :0.04167   Mean   :0.04167   Mean   :0.04167   Mean   :0.04167  \n",
       " 3rd Qu.:0.00000   3rd Qu.:0.00000   3rd Qu.:0.00000   3rd Qu.:0.00000  \n",
       " Max.   :1.00000   Max.   :1.00000   Max.   :1.00000   Max.   :1.00000  \n",
       "                                                                        \n",
       "       18                19                2                 20         \n",
       " Min.   :0.00000   Min.   :0.00000   Min.   :0.00000   Min.   :0.00000  \n",
       " 1st Qu.:0.00000   1st Qu.:0.00000   1st Qu.:0.00000   1st Qu.:0.00000  \n",
       " Median :0.00000   Median :0.00000   Median :0.00000   Median :0.00000  \n",
       " Mean   :0.04167   Mean   :0.04167   Mean   :0.04167   Mean   :0.04167  \n",
       " 3rd Qu.:0.00000   3rd Qu.:0.00000   3rd Qu.:0.00000   3rd Qu.:0.00000  \n",
       " Max.   :1.00000   Max.   :1.00000   Max.   :1.00000   Max.   :1.00000  \n",
       "                                                                        \n",
       "       21                22                23                3          \n",
       " Min.   :0.00000   Min.   :0.00000   Min.   :0.00000   Min.   :0.00000  \n",
       " 1st Qu.:0.00000   1st Qu.:0.00000   1st Qu.:0.00000   1st Qu.:0.00000  \n",
       " Median :0.00000   Median :0.00000   Median :0.00000   Median :0.00000  \n",
       " Mean   :0.04167   Mean   :0.04167   Mean   :0.04167   Mean   :0.04167  \n",
       " 3rd Qu.:0.00000   3rd Qu.:0.00000   3rd Qu.:0.00000   3rd Qu.:0.00000  \n",
       " Max.   :1.00000   Max.   :1.00000   Max.   :1.00000   Max.   :1.00000  \n",
       "                                                                        \n",
       "       4                 5                 6                 7          \n",
       " Min.   :0.00000   Min.   :0.00000   Min.   :0.00000   Min.   :0.00000  \n",
       " 1st Qu.:0.00000   1st Qu.:0.00000   1st Qu.:0.00000   1st Qu.:0.00000  \n",
       " Median :0.00000   Median :0.00000   Median :0.00000   Median :0.00000  \n",
       " Mean   :0.04167   Mean   :0.04167   Mean   :0.04167   Mean   :0.04167  \n",
       " 3rd Qu.:0.00000   3rd Qu.:0.00000   3rd Qu.:0.00000   3rd Qu.:0.00000  \n",
       " Max.   :1.00000   Max.   :1.00000   Max.   :1.00000   Max.   :1.00000  \n",
       "                                                                        \n",
       "       8                 9          \n",
       " Min.   :0.00000   Min.   :0.00000  \n",
       " 1st Qu.:0.00000   1st Qu.:0.00000  \n",
       " Median :0.00000   Median :0.00000  \n",
       " Mean   :0.04167   Mean   :0.04167  \n",
       " 3rd Qu.:0.00000   3rd Qu.:0.00000  \n",
       " Max.   :1.00000   Max.   :1.00000  \n",
       "                                    "
      ]
     },
     "metadata": {},
     "output_type": "display_data"
    }
   ],
   "source": [
    "# Print the summary of the dataset again to make sure the numeric columns range between 0 and 1\n",
    "summary(dataframe)"
   ]
  },
  {
   "cell_type": "code",
   "execution_count": 38,
   "metadata": {},
   "outputs": [],
   "source": [
    "# Save the dataset as `seoul_bike_sharing_converted_normalized.csv`\n",
    "write_csv(dataframe, \"seoul_bike_sharing_converted_normalized.csv\")"
   ]
  },
  {
   "cell_type": "markdown",
   "metadata": {},
   "source": [
    "## Standardize the column names again for the new datasets\n"
   ]
  },
  {
   "cell_type": "markdown",
   "metadata": {},
   "source": [
    "Since you have added many new indicator variables, you need to standardize their column names again by using the following code:\n"
   ]
  },
  {
   "cell_type": "code",
   "execution_count": 39,
   "metadata": {},
   "outputs": [
    {
     "name": "stderr",
     "output_type": "stream",
     "text": [
      "Warning message:\n",
      "“Missing column names filled in: 'X1' [1]”Parsed with column specification:\n",
      "cols(\n",
      "  X1 = col_double(),\n",
      "  DATE = col_character(),\n",
      "  RENTED_BIKE_COUNT = col_double(),\n",
      "  HOUR = col_double(),\n",
      "  TEMPERATURE = col_double(),\n",
      "  HUMIDITY = col_double(),\n",
      "  WIND_SPEED = col_double(),\n",
      "  VISIBILITY = col_double(),\n",
      "  DEW_POINT_TEMPERATURE = col_double(),\n",
      "  SOLAR_RADIATION = col_double(),\n",
      "  RAINFALL = col_double(),\n",
      "  SNOWFALL = col_double(),\n",
      "  SEASONS = col_character(),\n",
      "  HOLIDAY = col_character(),\n",
      "  FUNCTIONING_DAY = col_character()\n",
      ")\n",
      "Parsed with column specification:\n",
      "cols(\n",
      "  .default = col_double(),\n",
      "  DATE = col_character()\n",
      ")\n",
      "See spec(...) for full column specifications.\n",
      "Parsed with column specification:\n",
      "cols(\n",
      "  .default = col_double(),\n",
      "  DATE = col_character(),\n",
      "  RENTED_BIKE_COUNT = col_logical(),\n",
      "  TEMPERATURE = col_logical()\n",
      ")\n",
      "See spec(...) for full column specifications.\n"
     ]
    }
   ],
   "source": [
    "# Dataset list\n",
    "dataset_list <- c('seoul_bike_sharing.csv', 'seoul_bike_sharing_converted.csv', 'seoul_bike_sharing_converted_normalized.csv')\n",
    "\n",
    "for (dataset_name in dataset_list){\n",
    "    # Read dataset\n",
    "    dataset <- read_csv(dataset_name)\n",
    "    # Standardized its columns:\n",
    "    # Convert all columns names to uppercase\n",
    "    names(dataset) <- toupper(names(dataset))\n",
    "    # Replace any white space separators by underscore, using str_replace_all function\n",
    "    names(dataset) <- str_replace_all(names(dataset), \" \", \"_\")\n",
    "    # Save the dataset back\n",
    "    write.csv(dataset, dataset_name, row.names=FALSE)\n",
    "}"
   ]
  },
  {
   "cell_type": "markdown",
   "metadata": {},
   "source": [
    "# Next Steps\n"
   ]
  },
  {
   "cell_type": "markdown",
   "metadata": {},
   "source": [
    "Great! Now that you have processed all of the necessary datasets, you are ready to perform exploratory data analysis to get some inital insights from them.\n"
   ]
  },
  {
   "cell_type": "markdown",
   "metadata": {},
   "source": [
    "## Authors\n",
    "\n",
    "<a href=\"https://www.linkedin.com/in/yan-luo-96288783/?utm_medium=Exinfluencer&utm_source=Exinfluencer&utm_content=000026UJ&utm_term=10006555&utm_id=NA-SkillsNetwork-Channel-SkillsNetworkCoursesIBMDeveloperSkillsNetworkRP0321ENSkillsNetwork25371262-2022-01-01\" target=\"_blank\">Yan Luo</a>\n"
   ]
  },
  {
   "cell_type": "markdown",
   "metadata": {},
   "source": [
    "### Other Contributors\n",
    "\n",
    "Jeff Grossman\n"
   ]
  },
  {
   "cell_type": "markdown",
   "metadata": {},
   "source": [
    "## Change Log\n",
    "\n",
    "| Date (YYYY-MM-DD) | Version | Changed By | Change Description      |\n",
    "| ----------------- | ------- | ---------- | ----------------------- |\n",
    "| 2021-04-08        | 1.0     | Yan        | Initial version created |\n",
    "|                   |         |            |                         |\n",
    "|                   |         |            |                         |\n",
    "\n",
    "## <h3 align=\"center\"> © IBM Corporation 2021. All rights reserved. <h3/>\n"
   ]
  }
 ],
 "metadata": {
  "kernelspec": {
   "display_name": "R",
   "language": "R",
   "name": "conda-env-r-r"
  },
  "language_info": {
   "codemirror_mode": "r",
   "file_extension": ".r",
   "mimetype": "text/x-r-source",
   "name": "R",
   "pygments_lexer": "r",
   "version": "3.5.1"
  }
 },
 "nbformat": 4,
 "nbformat_minor": 4
}
